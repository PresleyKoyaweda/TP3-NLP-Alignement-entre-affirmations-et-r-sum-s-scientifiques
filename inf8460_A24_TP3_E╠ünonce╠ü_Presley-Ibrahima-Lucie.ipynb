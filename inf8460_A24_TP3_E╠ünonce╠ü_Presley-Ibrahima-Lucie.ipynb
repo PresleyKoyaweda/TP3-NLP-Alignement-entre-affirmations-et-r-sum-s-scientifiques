{
  "cells": [
    {
      "cell_type": "markdown",
      "metadata": {
        "id": "G9ZPAA_02tRR"
      },
      "source": [
        "##### INF8460 – Traitement automatique de la langue naturelle - Automne 2024\n",
        "\n",
        "## TP3: Génération automatique de mots-clés (concepts) avec une architecture Transformer\n"
      ]
    },
    {
      "cell_type": "markdown",
      "metadata": {
        "id": "NWO5vIjG2tRS"
      },
      "source": [
        "## Identification de l'équipe:\n",
        "\n",
        "### Groupe de laboratoire: 01\n",
        "\n",
        "### Equipe numéro : 04\n",
        "\n",
        "### Membres:\n",
        "\n",
        "- Gervais Presley Koyaweda 2305686 (1/3) : Encodeur, Décodeur, Transformateur, Training. Évaluations\n",
        "- Lucie Legarez 2413157 (1/3) : Tokenization, Positional Embdedding, Attention, Encodeur, Décodeur, Padding, Graphiques\n",
        "- Ibrahima Ba 1943223 (1/3) : Encodeur, Décodeur, Transformateur, Training, Commentaires\n",
        "\n",
        "##### Le TP s'est fait de façon indépendante avec comme objectif de comparer nos différents résultats et de choisir les scipts les  plus simples et rapide à chaque étape. Tous les membres de l'équipe ont travaillé sur chacune des 3 parties et les efforts fournis ont été équitables.\n",
        "\n",
        "* nature de la contribution: Décrivez brièvement ce qui a été fait par chaque membre de l’équipe. Tous les membres sont censés contribuer au développement. Bien que chaque membre puisse effectuer différentes tâches, vous devez vous efforcer d’obtenir une répartition égale du travail. Soyez précis ! N'indiquez pas seulement : travail réparti équitablement"
      ]
    },
    {
      "cell_type": "markdown",
      "metadata": {
        "id": "1FayMA0Z9Fxp"
      },
      "source": [
        "## 1. Objectif du TP\n",
        "\n",
        "Dans ce TP, vous allez devoir implémenter en `PyTorch` un modèle suivant l'architecture Transformer créée initialement dans l'article \"[Attention Is All You Need](https://arxiv.org/pdf/1706.03762)\".\n",
        "<br>\n",
        "Votre tâche sera d'implémenter l'architecture du Transformer et d'entraîner un modèle de type Transformer à générer les concepts clés d'une phrase. Votre modèle prendra donc en entrée une phrase quelconque en anglais et produira en sortie une séquence de mots correspondant aux concepts les plus importants de la phrase. Par exemple :\n",
        "<br>\n",
        "\n",
        "**Entrée** : \"The dog jumped over the fence.\" <br>\n",
        "**Sortie attendue** : ['dog' 'jump' 'fence']\n",
        "\n",
        "Cette tâche a d'ailleurs plusieurs applications dans le monde réel allant de la génération de résumés jusqu'à la création de bases de connaissances à partir d'un texte.\n",
        "\n",
        "\n",
        "#### Requis et ressources utiles\n",
        "\n",
        "Il est fortement conseillé de s'être familiarisé avec la librairie `PyTorch` avant d'entamer le TP. Par exemple, vous devriez savoir comment fonctionne un objet de type `nn.Module` et ce que la fonction `forward` de cet objet fait. Plusieurs tutoriels sont disponibles sur internet expliquant clairement le fonctionnement de la librairie. Voici certaines ressources qui peuvent être utiles :\n",
        "- [Build The Neural Network](https://pytorch.org/tutorials/beginner/basics/buildmodel_tutorial.html)\n",
        "- [PyTorch Tutorial](https://github.com/yunjey/pytorch-tutorial?tab=readme-ov-file)\n",
        "\n",
        "\n",
        "## 2. Jeu de données\n",
        "\n",
        "Le jeu de données est composé de paires (phrase, concepts) où une phrase est mentionnée et la liste des concepts les plus importants de la phrase est indiquée. Le jeu de données est divisé en ensembles d'entraînement, de validation et de test :\n",
        "- Entraînement : 4500 examples (train.csv)\n",
        "- Validation : 500 examples (val.csv)\n",
        "- Test : 500 examples (test.csv)\n",
        "\n",
        "Pour une même séquence de concepts, il y a 3 phrases pouvant être associées à ces concepts. Par exemple, pour les concepts : ['cat' 'laptop' 'lie'], les phrases suivantes y sont associées :\n",
        "- A cat lying on a laptop\n",
        "- A large cat lies down next to a laptop.\n",
        "- There is a cat lying on top of the laptop.\n"
      ]
    },
    {
      "cell_type": "markdown",
      "metadata": {
        "id": "26Qe_-7z25EE"
      },
      "source": [
        "## 3. LIBRAIRIES PERMISES\n",
        "- Jupyter notebook\n",
        "- PyTorch\n",
        "- nltk\n",
        "- transformers\n",
        "- pandas\n",
        "- matplotlib\n",
        "- numpy\n",
        "- Huggingface\n",
        "\n",
        "\n",
        "Pour toute autre librairie, demandez à votre chargé de laboratoire"
      ]
    },
    {
      "cell_type": "markdown",
      "metadata": {
        "id": "Ssmtsfa12_CQ"
      },
      "source": [
        "## 4. INFRASTRUCTURE\n",
        "\n",
        "- Vous avez accès aux GPU du local L-4818. Dans ce cas, vous devez utiliser le dossier temp (voir le tutoriel VirtualEnv.pdf)"
      ]
    },
    {
      "cell_type": "markdown",
      "metadata": {
        "id": "Hn5uuxc59Fxp"
      },
      "source": [
        "## 5. ÉTAPES DU TP"
      ]
    },
    {
      "cell_type": "code",
      "execution_count": 1,
      "metadata": {
        "id": "eNlUvpo32tRS"
      },
      "outputs": [],
      "source": [
        "# Pytorch\n",
        "import torch\n",
        "import torch.nn as nn\n",
        "import torch.nn.functional as F\n",
        "import torch.optim as O\n",
        "from torch.utils.data import DataLoader\n",
        "\n",
        "# ML\n",
        "import pandas as pd\n",
        "import nltk\n",
        "import matplotlib.pyplot as plt\n",
        "import math\n",
        "import numpy as np\n",
        "import random\n",
        "\n",
        "# System\n",
        "from dataclasses import dataclass\n",
        "import time\n",
        "import re\n",
        "\n",
        "# Huggingface\n",
        "from tokenizers import CharBPETokenizer"
      ]
    },
    {
      "cell_type": "markdown",
      "metadata": {
        "id": "ZHahteTL9Fxq"
      },
      "source": [
        "Il vous faudra peut-être télécharger ce module de `nltk`"
      ]
    },
    {
      "cell_type": "code",
      "execution_count": 2,
      "metadata": {
        "colab": {
          "base_uri": "https://localhost:8080/"
        },
        "id": "xAjX6Fzz9MjK",
        "outputId": "1eac79b8-3de6-4c54-f0c6-38ba6e56a41f"
      },
      "outputs": [
        {
          "output_type": "stream",
          "name": "stderr",
          "text": [
            "[nltk_data] Downloading package punkt to /root/nltk_data...\n",
            "[nltk_data]   Unzipping tokenizers/punkt.zip.\n"
          ]
        },
        {
          "output_type": "execute_result",
          "data": {
            "text/plain": [
              "True"
            ]
          },
          "metadata": {},
          "execution_count": 2
        }
      ],
      "source": [
        "nltk.download('punkt')"
      ]
    },
    {
      "cell_type": "markdown",
      "metadata": {
        "id": "AIwDxV0G2tRS"
      },
      "source": [
        "### 1. Charger les données (2 points)\n",
        "\n",
        "La première étape va être de charger les données des fichiers d'entraînement et d'évaluation. Pour cela, nous allons utiliser la classe `Dataset` de `PyTorch`. Complétez les fonctions de cette classe."
      ]
    },
    {
      "cell_type": "code",
      "execution_count": 3,
      "metadata": {
        "id": "Ppkz_YFb2tRS"
      },
      "outputs": [],
      "source": [
        "class CustomDataset(torch.utils.data.Dataset):\n",
        "\n",
        "    def __init__(self, file_path: str = None, data: pd.DataFrame = None):\n",
        "\n",
        "        if file_path is None and data is None:\n",
        "            raise Exception('A file path or a dataframe must be passed to create a CustomDataset')\n",
        "\n",
        "        if file_path != None:\n",
        "            self.data = pd.read_csv(file_path)\n",
        "        else:\n",
        "            self.data = data.copy()\n",
        "\n",
        "        # TODO : Enlever les données qui sont nulles et\n",
        "        # assigner le résultat dans la variable data\n",
        "            self.data=self.data.dropna()\n",
        "        # END TODO\n",
        "\n",
        "    def __len__(self):\n",
        "        # TODO : Retourne le nombre de données\n",
        "        return len(self.data)\n",
        "        # END TODO\n",
        "\n",
        "    def __getitem__(self, idx: int):\n",
        "        # TODO : Retourne l'élément à l'index \"idx\"\n",
        "        return self.data.iloc[idx]\n",
        "        # END TODO\n",
        "\n",
        "    def get_column(self, column: str):\n",
        "        # TODO : Retourne toutes les rangées de la colonne \"column\"\n",
        "        return self.data[column]\n",
        "        # END TODO\n",
        "\n",
        "    def get_batch(self, idx: int, size):\n",
        "        # TODO : Retourne toutes les rangées de l'index \"idx\" à \"idx\" + \"size\"\n",
        "        return self.data.iloc[idx:idx+size]\n",
        "        # END TODO\n",
        "\n",
        "    def transform(self, function):\n",
        "        self.data = self.data.apply(function)\n",
        "\n",
        "    def sample(self, nb_samples, random_state=42):\n",
        "        return self.data.sample(n=nb_samples, random_state=random_state)"
      ]
    },
    {
      "cell_type": "code",
      "execution_count": 4,
      "metadata": {
        "id": "2CWT0dXF2tRT"
      },
      "outputs": [],
      "source": [
        "root = 'data/'\n",
        "\n",
        "train_dataset = CustomDataset(root + 'train.csv')\n",
        "test_dataset = CustomDataset(root + 'test.csv')\n",
        "val_dataset = CustomDataset(root + 'val.csv')\n",
        "\n",
        "INPUT_COLUMN = 'sentence'\n",
        "OUTPUT_COLUMN = 'concepts'\n",
        "MAX_LENGTH = 16\n",
        "DEVICE = 'cuda' if torch.cuda.is_available() else 'cpu' # Vous pouvez changer sur quelle machine les calculs seront effectués"
      ]
    },
    {
      "cell_type": "code",
      "execution_count": 5,
      "metadata": {
        "colab": {
          "base_uri": "https://localhost:8080/"
        },
        "id": "rv_Bjpg92tRT",
        "outputId": "bbaf9b89-9a58-4aee-ca8e-d1e00447b9f7"
      },
      "outputs": [
        {
          "output_type": "stream",
          "name": "stdout",
          "text": [
            "Training set size :  4500\n",
            "Validation set size :  500\n",
            "Testing set size :  500\n"
          ]
        }
      ],
      "source": [
        "print('Training set size : ', len(train_dataset))\n",
        "print('Validation set size : ', len(val_dataset))\n",
        "print('Testing set size : ', len(test_dataset))"
      ]
    },
    {
      "cell_type": "markdown",
      "metadata": {
        "id": "c-HmDFdv2tRT"
      },
      "source": [
        "### 2. Statistiques (5 points)"
      ]
    },
    {
      "cell_type": "markdown",
      "metadata": {
        "id": "p92b0tB79Fxr"
      },
      "source": [
        "Avant d'entamer la création du modèle, il est important de se familiariser avec les données et d'évaluer la taille des données avec lesquelles nous travaillons."
      ]
    },
    {
      "cell_type": "markdown",
      "metadata": {
        "id": "5oOmXpLE2tRT"
      },
      "source": [
        "#### 2.1 Histogramme du nombre de caractères (2 points)\n",
        "\n",
        "Complétez la méthode `show_histogram_nb_characters` qui affiche un histogramme de la distribution du nombre de caractères des exemples de la colonne passée en paramètre. L'axe des abscisses devra représenter le nombre de caractères et l'axe des ordonnées le nombre de documents. Utilisez des bacs (bins) de 20 pour l'histogramme. Affichez ensuite la distribution du nombre de caractères sur l'ensemble d'entraînement pour la colonne 'sentence' et la colonne 'concepts'."
      ]
    },
    {
      "cell_type": "code",
      "execution_count": 6,
      "metadata": {
        "colab": {
          "base_uri": "https://localhost:8080/",
          "height": 1000
        },
        "id": "38GHBsHZ2tRT",
        "outputId": "2c5f56ff-fa5f-404b-ed07-7e552bd3aef9"
      },
      "outputs": [
        {
          "output_type": "display_data",
          "data": {
            "text/plain": [
              "<Figure size 1000x600 with 1 Axes>"
            ],
            "image/png": "[encoded data removed]"
          },
          "metadata": {}
        },
        {
          "output_type": "display_data",
          "data": {
            "text/plain": [
              "<Figure size 1000x600 with 1 Axes>"
            ],
            "image/png": "[encoded data removed]"
          },
          "metadata": {}
        }
      ],
      "source": [
        "def show_histogram_nb_chararacters(dataset: CustomDataset, column: str):\n",
        "\n",
        "    \"\"\"\n",
        "    Affiche la distribution de la colonne passé en paramètre. L'histogramme doit contenir un titre et des titres sur les axes\n",
        "\n",
        "    dataset: Dataset contenant plusieurs colonne dont la colonne dont les statistiques doivent être affichées\n",
        "    column: Colonne à afficher\n",
        "\n",
        "    \"\"\"\n",
        "    # TODO\n",
        "\n",
        "    # Extraction du nombre de caractères dans chaque document de la colonne\n",
        "    number_chars=dataset.get_column(column).apply(len)\n",
        "\n",
        "    #Affichage de l'histogramme\n",
        "    plt.figure(figsize=(10,6))\n",
        "    plt.hist(number_chars,bins=20,color='skyblue',edgecolor=\"black\")\n",
        "    plt.title(f'Distribution du Nombre de Caractères - {column}')\n",
        "    plt.xlabel('Nombre de Caractères')\n",
        "    plt.ylabel('Nombre de Document')\n",
        "    # END TODO\n",
        "\n",
        "\n",
        "show_histogram_nb_chararacters(train_dataset, INPUT_COLUMN)\n",
        "show_histogram_nb_chararacters(train_dataset, OUTPUT_COLUMN)"
      ]
    },
    {
      "cell_type": "markdown",
      "metadata": {
        "id": "zOOUTrZU2tRT"
      },
      "source": [
        "#### 2.2 Histogramme du nombre de mots par document (2 points)\n",
        "\n",
        "De la même manière, complétez la méthode `show_histogram_nb_words` qui affiche un histogramme de la distribution du nombre de mots des exemples de la colonne passée en paramètre. Utilisez des bacs (bins) de 20 pour l'histogramme. Affichez ensuite la distribution du nombre de mots sur l'ensemble d'entraînement pour les colonnes \"sentence\" et \"concepts\". Dans le cas de la colonne 'concepts', assurez-vous que les '[', ']' et les apostrophes ne soient pas considérées comme des mots.\n",
        "\n",
        "Indice : Utilisez la méthode word_tokenize() de nltk."
      ]
    },
    {
      "cell_type": "code",
      "execution_count": 7,
      "metadata": {
        "colab": {
          "base_uri": "https://localhost:8080/",
          "height": 1000
        },
        "id": "wq97r1Yc2tRT",
        "outputId": "f0f1c3ab-20ff-48e5-cac7-72dfb6fe7889"
      },
      "outputs": [
        {
          "output_type": "display_data",
          "data": {
            "text/plain": [
              "<Figure size 1000x600 with 1 Axes>"
            ],
            "image/png": "[encoded data removed]"
          },
          "metadata": {}
        },
        {
          "output_type": "display_data",
          "data": {
            "text/plain": [
              "<Figure size 1000x600 with 1 Axes>"
            ],
            "image/png": "[encoded data removed]"
          },
          "metadata": {}
        }
      ],
      "source": [
        "from nltk.tokenize import word_tokenize\n",
        "\n",
        "def show_histogram_nb_words(dataset: CustomDataset, column: str):\n",
        "\n",
        "    \"\"\"\n",
        "    Affiche la distribution de la colonne passé en paramètre du dataset. L'histogramme doit contenir un titre et des titres sur les axes\n",
        "\n",
        "    dataset: Dataset contenant plusieurs colonne dont la colonne dont les statistiques doivent être affichées\n",
        "    column: Colonne à afficher\n",
        "\n",
        "    \"\"\"\n",
        "    # TODO\n",
        "\n",
        "    # Traitement spécifique pour la colonne 'concepts' pour enlever les caractères [, ], et '\n",
        "    if column=='concepts':\n",
        "      data_cleaned=dataset.get_column(column).apply(lambda x: re.sub(r\"[\\[\\]',]\", \"\", x))\n",
        "    else:\n",
        "      data_cleaned=dataset.get_column(column)\n",
        "\n",
        "    # Calcul du nombre de mots dans chaque document de la colonne\n",
        "    number_words=data_cleaned.apply(lambda x:len(word_tokenize(x)))\n",
        "\n",
        "    # Affichage de l'histogramme avec des bacs de 20\n",
        "    plt.figure(figsize=(10, 6))\n",
        "    plt.hist(number_words, bins=20, color='skyblue', edgecolor='black')\n",
        "    plt.title(f'Distribution du Nombre de Mots - {column}')\n",
        "    plt.xlabel('Nombre de Mots')\n",
        "    plt.ylabel('Nombre de Documents')\n",
        "    plt.show()\n",
        "\n",
        "\n",
        "    # END TODO\n",
        "\n",
        "show_histogram_nb_words(train_dataset, INPUT_COLUMN)\n",
        "show_histogram_nb_words(train_dataset, OUTPUT_COLUMN)"
      ]
    },
    {
      "cell_type": "markdown",
      "metadata": {
        "id": "fKAGNVSe2tRT"
      },
      "source": [
        "#### 2.3 Commentez les graphiques (1 points)\n",
        "1. Est-ce que les distributions suivent des distributions normales ?\n",
        "2. Qu'observez-vous de spécial sur la distribution du nombre de mots de la colonne \"concepts\" ? Pourquoi est-elle ainsi ?"
      ]
    },
    {
      "cell_type": "markdown",
      "source": [
        "### Analyse des distributions\n",
        "\n",
        "1. **Est-ce que les distributions suivent des distributions normales ?**\n",
        "   - La distribution du nombre de caractères et du nombre de mots dans la colonne \"sentence\" est proche d'une distribution normale mais légèrement asymétrique. Elle présente une concentration autour d'une valeur centrale avec une baisse progressive des fréquences de part et d'autre. Cependant, elle n'est pas parfaitement symétrique.\n",
        "   - La distribution pour la colonne \"concepts\", en revanche, ne suit pas du tout une distribution normale. Elle est extrêmement concentrée autour d'une seule valeur, ce qui en fait une distribution atypique.\n",
        "\n",
        "2. **Qu'observez-vous de spécial sur la distribution du nombre de mots de la colonne \"concepts\" ?**\n",
        "   - La distribution du nombre de mots pour la colonne \"concepts\" montre une concentration unique autour de trois mots. Cette absence de variabilité est inhabituelle et contraste avec les autres distributions observées.\n",
        "\n",
        "3. **Pourquoi est-elle ainsi ?**\n",
        "   - Cette concentration autour de trois mots s'explique probablement par la structure des données : chaque entrée dans la colonne \"sentence\" est représentée de manière uniforme avec trois mots ou termes-clés dans la colonne \"concepts\". Cela pourrait être dû à une standardisation dans l'ensemble de données où chaque concept est toujours décrit avec le même nombre de mots, d'où cette absence de variation.\n"
      ],
      "metadata": {
        "id": "ZACnbblLQ2YP"
      }
    },
    {
      "cell_type": "markdown",
      "metadata": {
        "id": "EDnurIIU2tRT"
      },
      "source": [
        "### 3. Segmentation (Tokenization) (5 points)"
      ]
    },
    {
      "cell_type": "markdown",
      "metadata": {
        "id": "BU1nJ3xT2tRT"
      },
      "source": [
        "#### 3.1 Entraînement du segmenteur (tokenizer) (3 points)\n",
        "La fonction `word_tokenize()` de `nltk` est utile pour rapidement ressortir des statistiques, mais elle reste très générale et inefficace. Afin de réduire le plus possible la taille du vocabulaire, nous allons entraîner notre propre Tokenizer en nous basant sur l'algorithme BPE (Byte Pair Encoding). L'algorithme BPE est une méthode de compression de texte qui permet de créer des tokenizers efficaces en regroupant les caractères les plus fréquents. Il commence par diviser le texte en caractères uniques, puis itérativement fusionne les paires de caractères les plus fréquentes en nouveaux symboles. Ce processus continue jusqu'à atteindre un nombre prédéfini de jetons (tokens), permettant ainsi de gérer des vocabulaires de différentes tailles de manière flexible et efficace. À l'aide de BPE, nous allons transformer les mots en nombres pour pouvoir les passer au Transformer par la suite. Chaque jeton (token) sera associé à un nombre correspondant à l'indice du jeton dans le vocabulaire. Une séquence en entrée sera ainsi représentée comme une séquence de nombres.\n",
        "\n",
        "De plus, des jetons spéciaux seront ajoutés au tokenizer pour spécifier le début d'une phrase (begin-of-sequence : `[BOS]`) et la fin d'une phrase (end-of-sequence : `[EOS]`). Un jeton de padding `[PAD]` sera utilisé afin de s'assurer que toutes les phrases ont la même taille. Finalement, un jeton `[UNK]` sera utilisé pour les jetons inconnus.\n",
        "\n",
        "Pour créer ce vocabulaire à l'aide de l'algorithme BPE, il faudra entraîner le tokenizer sur notre ensemble d'entraînement pour qu'il puisse encoder efficacement les mots qui y sont présents. L'entraînement est déjà implémenté par la classe `ByteLevelBPYTokenizer` de la librairie `tokenizers`.\n",
        "\n",
        "Vous n'avez qu'à compléter la fonction :\n",
        "- `data_generator` qui retourne un générateur d'un lot (batch) de texte provenant de l'ensemble d'entraînement. Pour chaque lot, les colonnes \"sentence\" et \"concepts\" sont concaténées pour former la chaîne finale qui sera envoyée au tokenizer. Les lots sont utiles lors de l'entraînement pour accélérer l'entraînement en parallélisant le tout et en évitant de charger tout notre ensemble d'entraînement en mémoire directement."
      ]
    },
    {
      "cell_type": "code",
      "execution_count": 8,
      "metadata": {
        "id": "T7ouSYOn9Fxr"
      },
      "outputs": [],
      "source": [
        "VOCAB_SIZE = 8000\n",
        "special_tokens = ['[PAD]', '[BOS]', '[EOS]', '[UNK]']\n",
        "base_tokenizer = CharBPETokenizer(unk_token=special_tokens[-1])\n",
        "tokenizer_batch_size = 64\n",
        "\n",
        "def data_generator():\n",
        "    \"\"\"\n",
        "    Generateur qui retourne un lot (batch) de texte provenant de l'ensemble d'entraînement.\n",
        "    Pour chaque élément d'un lot, les colonnes \"target\" et \"concepts\" sont concaténée.\n",
        "    \"\"\"\n",
        "    for i in range(0, len(train_dataset), tokenizer_batch_size):\n",
        "\n",
        "        # TODO\n",
        "\n",
        "        # Récupération du lot courant\n",
        "        batch = train_dataset.get_batch(i, i+tokenizer_batch_size)\n",
        "\n",
        "        # Concaténation des colonnes \"sentence\" et \"concepts\" pour chaque ligne du lot\n",
        "        text = batch['sentence'] + batch['concepts']  # Mettez le lot dans la variable text\n",
        "\n",
        "        # END TODO\n",
        "\n",
        "        yield text\n"
      ]
    },
    {
      "cell_type": "markdown",
      "metadata": {
        "id": "JS-nxpFN9Fxr"
      },
      "source": [
        "Vous devez maintenant compléter la fonction :\n",
        "- `train_tokenizer` qui prend en paramètre un tokenizer pour entraîner ce dernier à l'aide de la fonction [train_from_iterator](https://github.com/huggingface/tokenizers/blob/main/bindings/python/py_src/tokenizers/implementations/byte_level_bpe.py). Le générateur de données (data_generator) est envoyé à la fonction train_from_iterator tout comme la taille du vocabulaire, les jetons spéciaux et la fréquence minimum d'une séquence pour la considérer comme un jeton. Indiquez explicitement une fréquence minimum de 2."
      ]
    },
    {
      "cell_type": "code",
      "execution_count": 9,
      "metadata": {
        "id": "Xhy4Axwq9Fxr"
      },
      "outputs": [],
      "source": [
        "\n",
        "from tokenizers import AddedToken, Tokenizer, decoders, pre_tokenizers, processors, trainers\n",
        "\n",
        "def train_tokenizer(tokenizer: CharBPETokenizer):\n",
        "    \"\"\"\n",
        "    Entraîne le tokenizer passé en paramètre en appelant la fonction train_from_iterator\n",
        "    et en spécifiant le générateur de donnée (data_generator), la taille du vocabulaire,\n",
        "    les jetons spéciaux et une fréquence minimum de 2 (indiquez le explicitement)\n",
        "    \"\"\"\n",
        "    # TODO\n",
        "\n",
        "    # Appel de train_from_iterator avec les bons paramètres\n",
        "    tokenizer.train_from_iterator(\n",
        "        iterator=data_generator(),\n",
        "        vocab_size=VOCAB_SIZE,\n",
        "        special_tokens=special_tokens,\n",
        "        min_frequency=2\n",
        "    )\n",
        "\n",
        "\n",
        "    # END TODO\n",
        "\n",
        "train_tokenizer(base_tokenizer)\n",
        "\n",
        "# On ajoute les jetons de début, de fin de phrase et de jeton inconnu\n",
        "bos_token_id = base_tokenizer.token_to_id(\"[BOS]\")\n",
        "eos_token_id = base_tokenizer.token_to_id(\"[EOS]\")\n",
        "unk_token_id = base_tokenizer.token_to_id(\"[UNK]\")\n",
        "\n",
        "# On applique un template au tokenizer pour qu'il ajoute\n",
        "# les jetons au début et à la fin de chaque phrase\n",
        "base_tokenizer.post_processor = processors.TemplateProcessing(\n",
        "    single=f\"[BOS]:0 $A:0 [EOS]:0\",\n",
        "    special_tokens=[\n",
        "        (\"[BOS]\", bos_token_id),\n",
        "        (\"[EOS]\", eos_token_id),\n",
        "    ],\n",
        ")\n"
      ]
    },
    {
      "cell_type": "markdown",
      "metadata": {
        "id": "goTLCnvu9Fxr"
      },
      "source": [
        "Nous allons maintenant transformer notre tokenizer pour qu'il soit compatible avec l'API de la librairie Huggingface. Cela permettra entre autre de faciliter les appels de méthodes pour modifier facilement nos entrées. Par exemple, avec l'API de Huggingface, nous pouvons simplement appeler la méthode `tokenize` pour diviser une séquence en jetons (`Welcome` -> `[W, el, come]`). De la même manière, l'API nous permet d'appeler les méthodes `encode` et `decode` pour transformer une chaîne de caractères en séquences d'indices de jetons (`Welcome` -> `[36, 170, 664]`) et inversement."
      ]
    },
    {
      "cell_type": "code",
      "execution_count": 10,
      "metadata": {
        "id": "lFU2lsU52tRU",
        "colab": {
          "base_uri": "https://localhost:8080/"
        },
        "outputId": "d512a985-5426-4ebb-bb93-4a85b2ca60d1"
      },
      "outputs": [
        {
          "output_type": "stream",
          "name": "stderr",
          "text": [
            "/usr/local/lib/python3.10/dist-packages/transformers/tokenization_utils_base.py:1601: FutureWarning: `clean_up_tokenization_spaces` was not set. It will be set to `True` by default. This behavior will be depracted in transformers v4.45, and will be then set to `False` by default. For more details check this issue: https://github.com/huggingface/transformers/issues/31884\n",
            "  warnings.warn(\n"
          ]
        }
      ],
      "source": [
        "from transformers import PreTrainedTokenizerFast\n",
        "\n",
        "tokenizer = PreTrainedTokenizerFast(tokenizer_object=base_tokenizer._tokenizer, truncation=True)\n",
        "tokenizer.add_special_tokens({\n",
        "    'pad_token': \"[PAD]\",\n",
        "    'bos_token': \"[BOS]\",\n",
        "    'eos_token': \"[EOS]\",\n",
        "    'unk_token': \"[UNK]\"\n",
        "});"
      ]
    },
    {
      "cell_type": "markdown",
      "metadata": {
        "id": "I1HQ12tm9Fxr"
      },
      "source": [
        "Testons maintenant notre tokenizer sur une phrase de test"
      ]
    },
    {
      "cell_type": "code",
      "execution_count": 11,
      "metadata": {
        "colab": {
          "base_uri": "https://localhost:8080/"
        },
        "id": "RXwsa-s92tRU",
        "outputId": "48c3d88e-81e9-46fc-c668-c9a9d344cec2"
      },
      "outputs": [
        {
          "output_type": "stream",
          "name": "stdout",
          "text": [
            "Welcome ! The boat arrived at the station ! 🤗  \n",
            "\n",
            "['W', 'el', 'come</w>', '!</w>', 'The</w>', 'boat</w>', 'arrived</w>', 'at</w>', 'the</w>', 'station</w>', '!</w>', '[UNK]']\n"
          ]
        }
      ],
      "source": [
        "test_input = 'Welcome ! The boat arrived at the station ! 🤗 '\n",
        "print(test_input, '\\n')\n",
        "print(tokenizer.tokenize(test_input))"
      ]
    },
    {
      "cell_type": "markdown",
      "metadata": {
        "id": "M9VPYkgF9Fxr"
      },
      "source": [
        "Observons maintenant la même phrase, mais une fois encodée en nombre. Décodons-la ensuite à partir de sa version encodée pour voir si nous retrouvons la phrase initiale.\n",
        "\n",
        "- La méthode `encode` permet de transformer une séquence de mots en séquence de nombres correspondant aux indices des différents jetons de la phrase dans le vocabulaire\n",
        "- La méthode `decode` permet de transformer une séquence d'indices de jetons en phrase lisible."
      ]
    },
    {
      "cell_type": "code",
      "execution_count": 12,
      "metadata": {
        "colab": {
          "base_uri": "https://localhost:8080/"
        },
        "id": "OGYIbuYw2tRU",
        "outputId": "06e4bd21-74e9-490a-94a6-14a1e618d9e3"
      },
      "outputs": [
        {
          "output_type": "stream",
          "name": "stdout",
          "text": [
            "Texte initial :  Welcome ! The boat arrived at the station ! 🤗 \n",
            "====================================================================================================\n",
            "Texte encodé :  [1, 36, 168, 807, 98, 277, 295, 2875, 129, 118, 350, 98, 3, 2]\n",
            "Texte décodé :  [BOS]Welcome! The boat arrived at the station! [UNK][EOS]\n"
          ]
        }
      ],
      "source": [
        "print('Texte initial : ', test_input)\n",
        "print('=' * 100)\n",
        "print('Texte encodé : ', tokenizer.encode(test_input))\n",
        "print('Texte décodé : ', tokenizer.decode(tokenizer.encode(test_input)))"
      ]
    },
    {
      "cell_type": "markdown",
      "metadata": {
        "id": "bgAOmSe-9Fxr"
      },
      "source": [
        "#### 3.2 Que remarquez-vous dans la version segmentée (tokenized) de la phrase de test ? Quelles sont les différences entre la phrase initiale et la phrase décodée ? Pourquoi ? (2 points)"
      ]
    },
    {
      "cell_type": "markdown",
      "source": [
        "### Observations et Explications\n",
        "\n",
        "1. **Version segmentée (tokenized)** :\n",
        "   - La phrase est segmentée en sous-unités avec des indications `</w>` pour marquer la fin des mots, résultat de l'algorithme Byte Pair Encoding (BPE) qui réduit la taille du vocabulaire en utilisant des sous-unités fréquentes.\n",
        "\n",
        "2. **Différences entre la phrase initiale et la phrase décodée** :\n",
        "   - Des jetons spéciaux `[BOS]` et `[EOS]` sont ajoutés au début et à la fin de la phrase décodée pour indiquer les limites de la séquence.\n",
        "   - Le jeton `[UNK]` apparaît à la place de l'emoji \"🤗\", signifiant que l'emoji n'est pas dans le vocabulaire et est donc remplacé par le jeton inconnu `[UNK]`.\n",
        "\n",
        "3. **Pourquoi ces différences ?** :\n",
        "   - Les jetons `[BOS]` et `[EOS]` sont ajoutés pour délimiter les phrases dans les modèles de traitement de texte.\n",
        "   - Le jeton `[UNK]` est utilisé pour les caractères non reconnus, comme l'emoji, car ils n'ont pas été inclus dans le vocabulaire entraîné.\n"
      ],
      "metadata": {
        "id": "xaNdU9u-mtsv"
      }
    },
    {
      "cell_type": "markdown",
      "metadata": {
        "id": "SJt5coCQ9Fxs"
      },
      "source": [
        "### 4. Transformer (28 points)"
      ]
    },
    {
      "cell_type": "markdown",
      "metadata": {
        "id": "P2qoKbLl9Fxs"
      },
      "source": [
        "Il est maintenant le temps de construire les couches du Transformer. Son architecture globale est présentée dans la figure suivante. :\n",
        "\n",
        "![Transformer](images/transformer.png)\n",
        "\n",
        "Les couches sont définies pour vous et vous n'avez qu'à compléter, à moins d'indication contraire, la fonction `forward` de chacune des classes qui prend un tenseur en entrée et effectue une transformation sur celui-ci pour générer une sortie. Cette transformation varie en fonction de chaque classe. Une description de ce que doit faire la classe est indiquée à chaque étape. Lorsque la fonction `forward` est complexe, une figure est fournie pour vous guider. Attention, ne changez pas le constructeur ou le nom de la classe !"
      ]
    },
    {
      "cell_type": "markdown",
      "metadata": {
        "id": "hxIkdQnH9Fxs"
      },
      "source": [
        "#### 4.1 Positional Embedding\n",
        "Le Transformer encode l'information de l'ordre des mots dans les plongements des mots. Des plongements de position sont calculés et ils sont ajoutés aux plongements de contexte. Dans ce cas-ci la classe `PositionalEmbedding` vous est donnée."
      ]
    },
    {
      "cell_type": "code",
      "execution_count": 13,
      "metadata": {
        "id": "jWGyCzdH2tRU"
      },
      "outputs": [],
      "source": [
        "class PositionalEmbedding(nn.Module):\n",
        "    \"\"\"\n",
        "    Cette classe a été prise de l'implémentation originale du papier 'Attention Is All You Need'\n",
        "    \"\"\"\n",
        "\n",
        "    def __init__(self, max_seq_length, embedding_dim):\n",
        "        super(PositionalEmbedding, self).__init__()\n",
        "\n",
        "        self.max_seq_length = max_seq_length\n",
        "        self.embedding_dim = embedding_dim\n",
        "\n",
        "        pe = torch.zeros(max_seq_length, self.embedding_dim)\n",
        "        position = torch.arange(0, max_seq_length, dtype=torch.float).unsqueeze(1)\n",
        "        div_term = torch.exp(torch.arange(0, self.embedding_dim, 2).float() * -(math.log(10000.0) / self.embedding_dim))\n",
        "\n",
        "        pe[:, 0::2] = torch.sin(position * div_term)\n",
        "        pe[:, 1::2] = torch.cos(position * div_term)\n",
        "\n",
        "        self.register_buffer('pe', pe.unsqueeze(0))\n",
        "\n",
        "    def forward(self, x: torch.Tensor):\n",
        "        return x + self.pe[:, :x.size(1)]\n"
      ]
    },
    {
      "cell_type": "markdown",
      "metadata": {
        "id": "qGaeIr1r9Fxs"
      },
      "source": [
        "#### 4.2 Attention (6 points)\n",
        "Le mécanisme d'attention est le coeur de l'architecture du Transformer. Il permet notamment la parallélisation de l'entraînement tout en garantissant un lien direct entre tous les jetons. Vous devrez implémenter la fonction `scaled_dot_product_attention` qui effectue le calcul principal derrière le mécanisme d'attention. Cette fonction prend en entrée les tenseurs `Q`, `K`, `V` et effectue le calcul suivant :\n",
        "$$A = \\texttt{softmax}\\Big( \\frac{Q K^T \\odot M}{\\texttt{head\\_dim}} \\Big) V$$\n",
        "où $M$ est le masque d'attention qui doit être appliqué. Plus de détails sont indiqués dans la description de la fonction à propos du masque. Par rapport au tenseur de clés, vous remarquerez dans la formule qu'une transposée est appliquée sur ce tenseur. Étant donné qu'un tenseur possède plus que 2 dimensions, il est important de spécifier quelles dimensions seront transposées dans le tenseur. Dans notre cas, il s'agit des dimensions correspondants aux jetons de la séquence et aux plongements des jetons"
      ]
    },
    {
      "cell_type": "code",
      "execution_count": 14,
      "metadata": {
        "id": "lVVuGLFY2tRU"
      },
      "outputs": [],
      "source": [
        "class MultiHeadAttention(nn.Module):\n",
        "    def __init__(self, model_dim, num_heads):\n",
        "        super(MultiHeadAttention, self).__init__()\n",
        "        assert model_dim % num_heads == 0, \"La dimension du modèle doit être divisible par le nombre de têtes d'attention\"\n",
        "\n",
        "        self.model_dim = model_dim\n",
        "        self.num_heads = num_heads\n",
        "        self.head_dim = model_dim // num_heads\n",
        "\n",
        "        self.wq = nn.Linear(model_dim, model_dim) # Query\n",
        "        self.wk = nn.Linear(model_dim, model_dim) # Key\n",
        "        self.wv = nn.Linear(model_dim, model_dim) # Value\n",
        "        self.wo = nn.Linear(model_dim, model_dim) # Output\n",
        "\n",
        "        self.mask_value = -1e9\n",
        "\n",
        "    def scaled_dot_product_attention(self, Q, K, V, mask=None):\n",
        "        \"\"\"\n",
        "        Calcule les plongements d'attention en utilisant la formule\n",
        "\n",
        "        attn = softmax(Q * K^T @ mask / head_dim) * V\n",
        "\n",
        "        Args :\n",
        "            Q : plongements des queries\n",
        "            Taille : [batch_size, num_heads, seq_length, head_dim]\n",
        "\n",
        "            K : plongements des keys\n",
        "            Taille : [batch_size, num_heads, seq_length, head_dim]\n",
        "\n",
        "            V : plongement des values\n",
        "            Taille : [batch_size, num_heads, seq_length, head_dim]\n",
        "\n",
        "            mask : Masque d'attention qui doit être appliqué avant le softmax pour que\n",
        "            les jetons ne portent pas leur attention sur certains jetons. Le masque est\n",
        "            notamment utilisé dans le décodeur pour s'assurer que le transformer n'ait\n",
        "            pas accès aux futurs jetons lorsqu'il essaie de prédire le prochain jeton.\n",
        "            Il contient des valeurs 0 ou 1. Une valeur de 0 à la position i,j indique\n",
        "            que pour le jeton i, le jeton j doit être masqué. Pour masquer la valeur,\n",
        "            il suffit de mettre une valeur très petite (self.mask_value) à l'indice i,j.\n",
        "            La fonction masked_fill de PyTorch pourrait être utile\n",
        "            Taille : [1, seq_length, seq_length]\n",
        "\n",
        "        Returns :\n",
        "        Résultat du calcul d'attention de taille [batch_size, num_heads, seq_length, head_dim]\n",
        "        \"\"\"\n",
        "        # TODO\n",
        "\n",
        "        #Calcul du score d'attention Q*k^T\n",
        "        attn_scores=torch.matmul(Q,K.transpose(-2,-1))/(self.head_dim**0.5)\n",
        "\n",
        "        #Application du masque\n",
        "        attn_scores=attn_scores.masked_fill(mask==0, self.mask_value)\n",
        "\n",
        "        #Application de softmax pour l'obtention des poids d'attention\n",
        "        attn_weights=F.softmax(attn_scores, dim=-1)\n",
        "\n",
        "        # Calcul du résultat d'attention\n",
        "        attn_output=torch.matmul(attn_weights,V)\n",
        "\n",
        "        return attn_output\n",
        "        # END TODO\n",
        "\n",
        "    def split_heads(self, x):\n",
        "        \"\"\"\n",
        "        Sépare une entrée sur plusieurs têtes d'attention\n",
        "\n",
        "        Args :\n",
        "            x : Tenseur d'entrée\n",
        "            Taille : [batch_size, seq_length, model_dim]\n",
        "\n",
        "        Returns :\n",
        "        Tenseur séparé sur plusieurs têtes d'attention\n",
        "        Taille : [batch_size, num_heads, seq_length, head_dim]\n",
        "        \"\"\"\n",
        "        return x.view(x.shape[0], x.shape[1], self.num_heads, self.head_dim).transpose(1, 2)\n",
        "\n",
        "    def combine_heads(self, x):\n",
        "        \"\"\"\n",
        "        Combine une entrée à travers les têtes d'attention\n",
        "\n",
        "        Args :\n",
        "            x : Tenseur d'entrée\n",
        "            Taille : [batch_size, num_heads, seq_length, head_dim]\n",
        "\n",
        "        Returns :\n",
        "        Tenseur séparé sur plusieurs têtes d'attention\n",
        "        Taille : [batch_size, seq_length, model_dim]\n",
        "        \"\"\"\n",
        "        return x.transpose(1, 2).contiguous().view(x.shape[0], x.shape[2], self.model_dim)\n",
        "\n",
        "    def forward(self, queries, keys, values, mask=None):\n",
        "        \"\"\"\n",
        "        Exécute le mécanisme d'attention à travers plusieurs têtes\n",
        "        d'attention\n",
        "\n",
        "        Args :\n",
        "            queries : plongements des queries\n",
        "            Taille : [batch_size, seq_length, model_dim]\n",
        "\n",
        "            keys : plongements des keys\n",
        "            Taille : [batch_size, seq_length, model_dim]\n",
        "\n",
        "            values : plongement des values\n",
        "            Taille : [batch_size, seq_length, model_dim]\n",
        "\n",
        "            mask : mask qui sera appliqué\n",
        "            Taille : [1, seq_length, seq_length]\n",
        "\n",
        "        Returns :\n",
        "        Tenseur contenant les plongements finaux de chaque indice de\n",
        "        la séquence\n",
        "        Taille : [batch_size, seq_length, model_dim]\n",
        "        \"\"\"\n",
        "        Q = self.split_heads(self.wq(queries))\n",
        "        K = self.split_heads(self.wk(keys))\n",
        "        V = self.split_heads(self.wv(values))\n",
        "\n",
        "        attn_output = self.scaled_dot_product_attention(Q, K, V, mask)\n",
        "        return self.wo(self.combine_heads(attn_output))"
      ]
    },
    {
      "cell_type": "code",
      "execution_count": 15,
      "metadata": {
        "colab": {
          "base_uri": "https://localhost:8080/"
        },
        "id": "4RmDSGKW9Fxs",
        "outputId": "da9acf1d-d4f6-41c0-a1fb-5150537b89dc"
      },
      "outputs": [
        {
          "output_type": "stream",
          "name": "stdout",
          "text": [
            "tensor([[[-0.6789,  2.8487,  2.8666, -1.1983,  3.2915,  0.5359],\n",
            "         [-0.3437,  3.1045,  3.0715, -1.1405,  3.2748,  0.3843],\n",
            "         [-2.5825,  4.2728, -0.0114, -2.2663, -0.0922, -2.4731],\n",
            "         [-2.5749,  4.2706, -0.0056, -2.2613, -0.0874, -2.4694]]])\n"
          ]
        }
      ],
      "source": [
        "def test_attention():\n",
        "    batch_size = 1\n",
        "    seq_length = 4\n",
        "    model_dim = 6\n",
        "    num_heads = 2\n",
        "\n",
        "    torch.random.manual_seed(42)\n",
        "    attention = MultiHeadAttention(model_dim=model_dim, num_heads=num_heads)\n",
        "    inputs = torch.randint(0, 10, (batch_size, seq_length, model_dim), dtype=torch.float32)\n",
        "    mask = (1 - torch.triu(torch.ones(1, seq_length, seq_length), diagonal=1))\n",
        "    print(attention.forward(inputs, inputs, inputs, mask=mask).detach())\n",
        "\n",
        "test_attention()"
      ]
    },
    {
      "cell_type": "markdown",
      "metadata": {
        "id": "LYhfAMYn9Fxv"
      },
      "source": [
        "Sortie attendue :\n",
        "```\n",
        "tensor([[[-0.6789,  2.8487,  2.8666, -1.1983,  3.2915,  0.5359],\n",
        "         [-0.3437,  3.1045,  3.0715, -1.1405,  3.2748,  0.3843],\n",
        "         [-2.5825,  4.2728, -0.0114, -2.2663, -0.0922, -2.4731],\n",
        "         [-2.5749,  4.2706, -0.0056, -2.2613, -0.0874, -2.4694]]])\n",
        "```"
      ]
    },
    {
      "cell_type": "markdown",
      "metadata": {
        "id": "sWlUCL9J9Fxv"
      },
      "source": [
        "#### 4.3 Encodeur (6 points)\n",
        "L'encodeur du Transformer encode la séquence d'entrée dans des vecteurs de contexte avant d'envoyer ces vecteurs de contexte au décodeur pour qu'ils puissent être utilisés pour générer la séquence de sortie. Vous n'avez qu'à compléter les fonctions `forward` des classes `TransformerFeedForward`, `EncoderLayer` et `Encoder`. L'architecture d'une couche d'encodeur `EncoderLayer` est décrite dans la figure suivante :\n",
        "\n",
        "![EncoderLayer](images/encoder_layer.png)"
      ]
    },
    {
      "cell_type": "markdown",
      "metadata": {
        "id": "GXmZRBKw9Fxv"
      },
      "source": [
        "La classe `TransformerFeedForward` représente une couche simple de réseaux de neurones avec la fonction d'activation `ReLU` qui sera présente dans l'encodeur. Son architecture est décrite dans la figure suivante :\n",
        "\n",
        "![TransformerFeedForward](images/transformer_feed_forward.png)"
      ]
    },
    {
      "cell_type": "code",
      "execution_count": 16,
      "metadata": {
        "id": "NtiCsab89Fxv"
      },
      "outputs": [],
      "source": [
        "class TransformerFeedForward(nn.Module):\n",
        "\n",
        "    def __init__(self, model_dim: int, ff_dim: int) -> None:\n",
        "        super(TransformerFeedForward, self).__init__()\n",
        "        self.model_dim = model_dim\n",
        "        self.ff_dim = ff_dim\n",
        "\n",
        "        self.ff1 = nn.Linear(model_dim, ff_dim)\n",
        "        self.ff2 = nn.Linear(ff_dim, model_dim)\n",
        "\n",
        "    def forward(self, x: torch.Tensor):\n",
        "        \"\"\"\n",
        "        Applique les deux couches linéaires (ff) consécutivement avec la fonction\n",
        "        d'activation ReLU après chaque couche linéaire\n",
        "\n",
        "        Args :\n",
        "            x : Tenseur d'entrée de taille [batch_size, model_dim]\n",
        "\n",
        "        Returns :\n",
        "        Tenseur après être passé à travers les couches linéaires de taille\n",
        "        [batch_size, model_dim]\n",
        "        \"\"\"\n",
        "        # TODO\n",
        "\n",
        "        # Première couche linéaire suivie de ReLU\n",
        "        x=F.relu(self.ff1(x))\n",
        "\n",
        "        # Deuxième couche linéaire\n",
        "        x=self.ff2(x)\n",
        "\n",
        "        return x\n",
        "\n",
        "\n",
        "        # END TODO"
      ]
    },
    {
      "cell_type": "markdown",
      "metadata": {
        "id": "SOdPH-wA9Fxv"
      },
      "source": [
        "La classe `EncoderLayer` représente une seule couche qui applique le mécanisme d'attention sur la sortie de la couche précédente. Dans le cas de la première couche d'encodeur, il s'agit simplement de la couche de plongements des jetons. Par la suite, le résultat du mécanisme d'attention est normalisé et envoyé à une couche de réseau de neurones."
      ]
    },
    {
      "cell_type": "code",
      "source": [
        "class EncoderLayer(nn.Module):\n",
        "\n",
        "    def __init__(self, model_dim: int, ff_dim: int, dropout_rate: int = 0.3, num_heads=8) -> None:\n",
        "        super(EncoderLayer, self).__init__()\n",
        "\n",
        "        self.self_attention = MultiHeadAttention(model_dim=model_dim, num_heads=num_heads)\n",
        "        self.feed_forward = TransformerFeedForward(model_dim=model_dim, ff_dim=ff_dim)\n",
        "        self.attention_layer_norm = nn.LayerNorm(model_dim)\n",
        "        self.ff_layer_norm = nn.LayerNorm(model_dim)\n",
        "        self.dropout = nn.Dropout(dropout_rate)\n",
        "\n",
        "    def forward(self, x: torch.Tensor, encoder_mask: torch.Tensor = None):\n",
        "        \"\"\"\n",
        "        Applique la couche d'attention, de normalisation et de réseau de neurones\n",
        "        sur l'entrée\n",
        "\n",
        "        Args :\n",
        "            x : Tenseur d'entrée de l'encodeur correspondant à la séquence d'entrée\n",
        "            Taille : [batch_size, seq_length, model_dim]\n",
        "\n",
        "        Returns :\n",
        "        Tenseur après avoir appliqués les couches de taille [batch_size, seq_length,\n",
        "        model_dim]\n",
        "        \"\"\"\n",
        "        # TODO\n",
        "\n",
        "        # 1. Attention multi-têtes avec masque optionnel\n",
        "        attn_output = self.self_attention(x, x, x, mask=encoder_mask)\n",
        "        attn_output = self.dropout(attn_output)  # Application du dropout\n",
        "        # Ajout de résidu et normalisation\n",
        "        out1 = self.attention_layer_norm(x + attn_output)\n",
        "\n",
        "        # 2. Réseau feed-forward\n",
        "        ff_output = self.feed_forward(out1)\n",
        "        ff_output = self.dropout(ff_output)  # Application du dropout\n",
        "        # Ajout de résidu et normalisation\n",
        "        out2 = self.ff_layer_norm(out1 + ff_output)\n",
        "\n",
        "        return out2\n",
        "\n",
        "        # END TODO"
      ],
      "metadata": {
        "id": "LSp4Bp9S90JE"
      },
      "execution_count": 17,
      "outputs": []
    },
    {
      "cell_type": "markdown",
      "metadata": {
        "id": "ktqwGE8r9Fxv"
      },
      "source": [
        "La classe `Encoder` correspond à une suite de plusieurs couches d'encodeurs. La fonction `forward` de cette classe doit appeler chacune des couches (`EncoderLayer`) une à la suite de l'autre en passant à la couche courante la sortie de la couche précédente. Le masque est partagé entre toutes les couches `EncoderLayer`."
      ]
    },
    {
      "cell_type": "code",
      "execution_count": 18,
      "metadata": {
        "id": "75n3oqTP2tRV"
      },
      "outputs": [],
      "source": [
        "class Encoder(nn.Module):\n",
        "\n",
        "    def __init__(self, num_layers: int, model_dim: int, ff_dim: int, dropout_rate: int = 0.3, num_heads=8) -> None:\n",
        "        super(Encoder, self).__init__()\n",
        "\n",
        "        self.layers = nn.ModuleList(\n",
        "            [EncoderLayer(\n",
        "                model_dim=model_dim,\n",
        "                ff_dim=ff_dim,\n",
        "                dropout_rate=dropout_rate,\n",
        "                num_heads=num_heads,\n",
        "            ) for _ in range(num_layers)]\n",
        "        )\n",
        "\n",
        "    def forward(self, x: torch.Tensor, encoder_mask: torch.LongTensor = None):\n",
        "        \"\"\"\n",
        "        Applique toutes les couches d'encodeur consécutivement\n",
        "\n",
        "        Args :\n",
        "            x : Tenseur d'entrée de l'encodeur correspondant à la séquence d'entrée\n",
        "            Taille : [batch_size, seq_length, model_dim]\n",
        "\n",
        "            encoder_mask : Tenseur contenant le masque qui sera utilisé par l'encodeur\n",
        "            pour cacher certains jetons (notamment les jetons [PAD])\n",
        "        Returns :\n",
        "        Tenseur après avoir appliqués les couches dans l'encodeur de taille\n",
        "        [batch_size, seq_length, model_dim]\n",
        "        \"\"\"\n",
        "        # TODO\n",
        "        for layer in self.layers:\n",
        "          x=layer(x,encoder_mask)\n",
        "        return x\n",
        "        # END TODO"
      ]
    },
    {
      "cell_type": "markdown",
      "metadata": {
        "id": "YBfB3AjY9Fxw"
      },
      "source": [
        "#### 4.4 Décodeur (8 points)\n",
        "Le décodeur est la partie du Transformer qui génère la séquence de sortie en prenant le contexte de la séquence d'entrée et les jetons qui ont été générés précédemment. De la même manière que l'encodeur, la classe `DecoderLayer` représente une seule couche de décodeur. L'architecture du `DecoderLayer` est présentée dans la figure suivante :\n",
        "\n",
        "![DecoderLayer](images/decoder_layer.png)"
      ]
    },
    {
      "cell_type": "code",
      "execution_count": 19,
      "metadata": {
        "id": "Fj8tGjvg2tRV"
      },
      "outputs": [],
      "source": [
        "class DecoderLayer(nn.Module):\n",
        "\n",
        "    def __init__(self, model_dim: int, ff_dim: int, dropout_rate: int = 0.3, num_heads=8) -> None:\n",
        "        super(DecoderLayer, self).__init__()\n",
        "\n",
        "        self.self_attention = MultiHeadAttention(model_dim=model_dim, num_heads=num_heads)\n",
        "        self.cross_attention = MultiHeadAttention(model_dim=model_dim, num_heads=num_heads)\n",
        "\n",
        "        self.feed_forward = TransformerFeedForward(model_dim=model_dim, ff_dim=ff_dim)\n",
        "\n",
        "        self.self_attention_layer_norm = nn.LayerNorm(model_dim)\n",
        "        self.cross_attention_layer_norm = nn.LayerNorm(model_dim)\n",
        "        self.ff_layer_norm = nn.LayerNorm(model_dim)\n",
        "\n",
        "        self.dropout = nn.Dropout(dropout_rate)\n",
        "\n",
        "    def forward(self,\n",
        "                x: torch.Tensor,\n",
        "                encoder_out: torch.Tensor,\n",
        "                encoder_mask: torch.LongTensor = None,\n",
        "                decoder_mask: torch.LongTensor = None):\n",
        "        \"\"\"\n",
        "        Applique les couches d'attention, de normalisation et de réseau de neurones\n",
        "        sur l'entrée\n",
        "\n",
        "        Args :\n",
        "            x : Entrée du décodeur correspondant à la séquence de sortie décalée vers\n",
        "            la droite\n",
        "            Taille : [batch_size, seq_length, model_dim]\n",
        "\n",
        "            encoder_output : Sortie de l'encodeur utilisé pour la couche de cross-\n",
        "            attention\n",
        "            Taille : [batch_size, seq_length, model_dim]\n",
        "\n",
        "            encoder_mask : Masque qui cache certains jetons dans la séquence d'entrée.\n",
        "            Par exemple, les jetons [PAD] seront cachés puisqu'ils ne sont utilisés que\n",
        "            pour aggrandir les séquences jusqu'à la fenêtre de contexte du Transformer\n",
        "            Taille : [batch_size, seq_length, seq_length]\n",
        "\n",
        "            decoder_mask : Masque qui cache certains jetons dans la séquence de sortie.\n",
        "            Ce masque est notamment utilisé dans le décodeur pour s'assurer que le\n",
        "            transformer n'ait pas accès aux futurs jetons lorsqu'il essaie de prédire\n",
        "            le prochain jeton.\n",
        "            Taille : [batch_size, seq_length, seq_length]\n",
        "        \"\"\"\n",
        "        # TODO\n",
        "\n",
        "        # 1. Attention masquée (self-attention)\n",
        "        self_attn_out=self.self_attention(x,x,x,mask=decoder_mask)\n",
        "        self_attn_out=self.dropout(self_attn_out)\n",
        "        self_attn_out=self.self_attention_layer_norm(x+self_attn_out)\n",
        "\n",
        "        # 2. Attention croisée (cross-attention) entre la sortie de l'encodeur et du décodeur\n",
        "        cross_attn_out = self.cross_attention(self_attn_out, encoder_out, encoder_out, mask=encoder_mask)\n",
        "        cross_attn_out = self.dropout(cross_attn_out)\n",
        "        cross_attn_out = self.cross_attention_layer_norm(self_attn_out + cross_attn_out)\n",
        "\n",
        "        # 3. Réseau de neurones feed-forward\n",
        "        ff_out = self.feed_forward(cross_attn_out)\n",
        "        ff_out = self.dropout(ff_out)\n",
        "        ff_out = self.ff_layer_norm(cross_attn_out + ff_out)\n",
        "\n",
        "        return ff_out\n",
        "\n",
        "        # END TODO"
      ]
    },
    {
      "cell_type": "markdown",
      "metadata": {
        "id": "dnhBKIIU9Fxw"
      },
      "source": [
        "La classe `Decoder` représente toutes les couches du décodeur. La fonction `forward` de cette classe doit appeler chacune des couches (`DecoderLayer`) une à la suite de l'autre en passant à la couche courante la sortie de la couche précédente. Les attributs `encoder_out`, `encoder_mask` et `decoder_mask` sont partagés entre toutes les couches `DecoderLayer`."
      ]
    },
    {
      "cell_type": "code",
      "execution_count": 20,
      "metadata": {
        "id": "MdjZSpzd2tRV"
      },
      "outputs": [],
      "source": [
        "class Decoder(nn.Module):\n",
        "\n",
        "    def __init__(self, num_layers: int, model_dim: int, ff_dim: int, dropout_rate: int = 0.3, num_heads=8) -> None:\n",
        "        super(Decoder, self).__init__()\n",
        "\n",
        "        self.layers = nn.ModuleList(\n",
        "            [DecoderLayer(\n",
        "                model_dim=model_dim,\n",
        "                ff_dim=ff_dim,\n",
        "                dropout_rate=dropout_rate,\n",
        "                num_heads=num_heads,\n",
        "            ) for _ in range(num_layers)]\n",
        "        )\n",
        "\n",
        "    def forward(self, x: torch.Tensor, encoder_out: torch.Tensor, encoder_mask: torch.LongTensor = None, decoder_mask: torch.LongTensor = None):\n",
        "        \"\"\"\n",
        "        Applique toutes les couches du décodeur consécutivement\n",
        "\n",
        "        Args :\n",
        "            x : Tenseur d'entrée du décodeur correspondant à la séquence de sortie\n",
        "            Taille : [batch_size, seq_length, model_dim]\n",
        "\n",
        "            encoder_out : Tenseur contenant la séquence d'entrée encodée par l'encodeur\n",
        "\n",
        "            encoder_mask : Tenseur contenant le masque qui sera utilisé par l'encodeur\n",
        "            pour cacher certains jetons (notamment les jetons [PAD])\n",
        "\n",
        "            decoder_mask : Tenseur contenant le masque qui sera utilisé par le décodeur\n",
        "            pour cacher certains jetons (notamment les jetons [PAD] et les jetons futurs)\n",
        "\n",
        "        Returns :\n",
        "        Tenseur après avoir appliqués les couches dans l'encodeur de taille\n",
        "        [batch_size, seq_length, model_dim]\n",
        "        \"\"\"\n",
        "        # TODO\n",
        "\n",
        "        # Passage l'entrée à travers chaque couche de DecoderLayer\n",
        "        for layer in self.layers:\n",
        "            x = layer(x, encoder_out, encoder_mask, decoder_mask)\n",
        "\n",
        "        return x\n",
        "\n",
        "        # END TODO"
      ]
    },
    {
      "cell_type": "markdown",
      "metadata": {
        "id": "rqH-GpDP9Fxw"
      },
      "source": [
        "#### 4.5 Transformer (8 points)\n",
        "\n",
        "L'architecture du Transformer est maintenant prête à être assemblée. En utilisant les différentes couches que vous avez implémentées, complétez la fonction `forward` de la classe `Transformer` qui, à partir de l'entrée de l'encodeur et du décodeur, génère la sortie du décodeur. L'architecture, telle que présentée précédemment, correspond à la figure suivante :\n",
        "\n",
        "![Transformer](images/transformer.png)\n",
        "\n",
        "La fonction forward doit passer les entrées à l'encodeur et au décodeur pour pouvoir générer une prédiction en fonction d'une entrée en appliquant les bons masques et encodages de position."
      ]
    },
    {
      "cell_type": "code",
      "execution_count": 21,
      "metadata": {
        "id": "UMWUXGRC2tRV"
      },
      "outputs": [],
      "source": [
        "@dataclass\n",
        "class TransformerConfig:\n",
        "\n",
        "    model_dim: int = 512\n",
        "    ff_dim: int = 2048\n",
        "\n",
        "    nb_encoder: int = 6\n",
        "    nb_decoder: int = 6\n",
        "\n",
        "    num_heads: int = 8\n",
        "\n",
        "    max_seq_length: int = MAX_LENGTH\n",
        "    vocab_size: int = VOCAB_SIZE\n",
        "    device: str = 'cpu'\n",
        "    pad_token_id: int = 0\n",
        "\n",
        "\n",
        "class Transformer(nn.Module):\n",
        "\n",
        "    def __init__(self, config: TransformerConfig) -> None:\n",
        "        super(Transformer, self).__init__()\n",
        "\n",
        "        self.config = config\n",
        "        self.enc_embeddings = nn.Embedding(\n",
        "            num_embeddings=config.vocab_size,\n",
        "            embedding_dim=config.model_dim\n",
        "        )\n",
        "\n",
        "        self.dec_embeddings = nn.Embedding(\n",
        "            num_embeddings=config.vocab_size,\n",
        "            embedding_dim=config.model_dim\n",
        "        )\n",
        "\n",
        "        self.positional_embeddings = PositionalEmbedding(\n",
        "            max_seq_length=config.max_seq_length,\n",
        "            embedding_dim=config.model_dim\n",
        "        )\n",
        "\n",
        "        self.encoder = Encoder(config.nb_encoder, config.model_dim, config.ff_dim, num_heads=config.num_heads)\n",
        "        self.decoder = Decoder(config.nb_decoder, config.model_dim, config.ff_dim, num_heads=config.num_heads)\n",
        "\n",
        "        self.linear_projection = nn.Linear(config.model_dim, config.vocab_size)\n",
        "        self.device = config.device\n",
        "\n",
        "    def generate_mask(self, src, tgt):\n",
        "        \"\"\"\n",
        "        Génère les masques d'attentions pour l'encodeur et le décodeur du transformer en\n",
        "        se basant sur le jeton de pad donné dans la configuration du transformer. Dans le\n",
        "        cas du décodeur, un masque causal est également calculé pour empêcher les jetons\n",
        "        de porter leur attention sur les jetons futurs\n",
        "\n",
        "        Args :\n",
        "            src : Séquence d'entrée\n",
        "\n",
        "        \"\"\"\n",
        "        src_mask = (src != self.config.pad_token_id).unsqueeze(1).unsqueeze(2)\n",
        "        tgt_mask = (tgt != self.config.pad_token_id).unsqueeze(1).unsqueeze(3)\n",
        "        seq_length = tgt.size(1)\n",
        "        nopeak_mask = (1 - torch.triu(torch.ones(1, seq_length, seq_length), diagonal=1)).bool().to(self.device)\n",
        "        tgt_mask = tgt_mask & nopeak_mask\n",
        "        return src_mask, tgt_mask\n",
        "\n",
        "    def forward(self, encoder_x: torch.Tensor, decoder_x: torch.Tensor):\n",
        "        \"\"\"\n",
        "        Génère la sortie du décodeur étant donné une entrée pour l'encodeur et une entrée\n",
        "        pour le décodeur\n",
        "\n",
        "        Args :\n",
        "            encoder_x : Tenseur d'entrée de l'encodeur\n",
        "            Taille : [batch_size, seq_length]\n",
        "\n",
        "            decoder_x : Tenseur d'entrée du décodeur\n",
        "            Taille : [batch_size, seq_length]\n",
        "\n",
        "        Returns :\n",
        "        Sortie du décodeur correspondant au prédictions du jeton le plus proche. Attention,\n",
        "        n'appliquez pas softmax sur ces prédictions. Ce tenseur devrait avoir une taille de\n",
        "        [batch_size, seq_length, vocab_size]\n",
        "        \"\"\"\n",
        "\n",
        "        # TODO\n",
        "\n",
        "        # Génération des masques pour l'encodeur et le décodeur\n",
        "        src_mask, tgt_mask = self.generate_mask(encoder_x, decoder_x)\n",
        "\n",
        "        # Embeddings et encodages de position pour l'entrée de l'encodeur\n",
        "        #enc_input = self.enc_embeddings(encoder_x) + self.positional_embeddings(encoder_x)\n",
        "        enc_input = self.enc_embeddings(encoder_x) + self.positional_embeddings(self.enc_embeddings(encoder_x))\n",
        "\n",
        "        # Passage par l'encodeur\n",
        "        encoder_out = self.encoder(enc_input, src_mask)\n",
        "\n",
        "        # Embeddings et encodages de position pour l'entrée du décodeur\n",
        "        dec_input = self.dec_embeddings(decoder_x) + self.positional_embeddings(self.dec_embeddings(decoder_x))\n",
        "\n",
        "        # Passage par le décodeur\n",
        "        decoder_out = self.decoder(dec_input, encoder_out, src_mask, tgt_mask)\n",
        "\n",
        "        # Projetion de la sortie du décodeur sur l'espace du vocabulaire\n",
        "        output = self.linear_projection(decoder_out)\n",
        "\n",
        "        return output\n",
        "\n",
        "        # END TODO"
      ]
    },
    {
      "cell_type": "markdown",
      "metadata": {
        "id": "09w2xPmk9Fxw"
      },
      "source": [
        "### 5. Padding et coupure (5 points)\n",
        "\n",
        "Il est important, lors de l'entraînement que toutes les séquences aient la même longueur de texte, car le Transformer prend toujours un nombre fixe de jetons. Cette taille correspond à sa fenêtre de contexte. Afin de s'assurer que toutes les séquences de texte dans un lot d'entraînement soient de la même longueur, nous allons couper les séquences trop longues et ajouter des jetons à celles qui sont trop courtes. Le jeton qui sera ajouté sera le jeton de \"padding\" du tokenizer (`[PAD]`).\n",
        "\n",
        "Complétez la fonction `tokenize` de la classe `DataCollator` qui s'occupe d'appeler le tokenizer avec les textes passés en paramètre en spécifiant les paramètres suivants :\n",
        "- `padding`: `\"max_length\"` (Attention on veut la chaîne de charactère `\"max_length\"`, pas la variable)\n",
        "- `truncation`: `True`\n",
        "- `max_length`: La taille maximale passée dans le constructeur\n",
        "- `return_tensors`: `pt`\n",
        "- `return_token_type_ids`: `False`\n",
        "- `add_special_tokens`: `True`\n",
        "\n",
        "Complétez la fonction `__call__` qui s'occupe de prendre un lot de données (le lot/batch correspondant à un sous-ensemble de l'ensemble d'entraînement) et retourne les entrées de l'encodeur et du décodeur ainsi que la sortie du décodeur du Transformer. Vous devrez prendre le lot passé en paramètre et transformer les colonnes `sentence` et `concepts` du lot en jetons. Les jetons de la colonne `sentence` seront envoyés à l'encodeur et les jetons de la colonne `concepts` seront envoyés au décodeur."
      ]
    },
    {
      "cell_type": "code",
      "execution_count": 38,
      "metadata": {
        "id": "FgvbPOmY9Fxw"
      },
      "outputs": [],
      "source": [
        "from typing import Dict, List, Union\n",
        "\n",
        "\n",
        "class DataCollator:\n",
        "    def __init__(self, tokenizer: Tokenizer, max_length: int, device: str = 'cpu') -> None:\n",
        "        self.tokenizer = tokenizer\n",
        "        self.max_length = max_length\n",
        "        self.device = device\n",
        "\n",
        "        self.pad_token_id = tokenizer.pad_token_id\n",
        "        self.bos_token_id = tokenizer.bos_token_id\n",
        "        self.eos_token_id = tokenizer.eos_token_id\n",
        "\n",
        "    def tokenize(self, texts):\n",
        "        \"\"\"\n",
        "        Transforme la séquence de textes en séquence d'indice de jetons\n",
        "\n",
        "        Args :\n",
        "            texts : Textes à transformer\n",
        "\n",
        "        Returns :\n",
        "        Indices des jetons des textes\n",
        "        \"\"\"\n",
        "        # TODO\n",
        "\n",
        "        return self.tokenizer(\n",
        "            texts,\n",
        "            padding=\"max_length\",\n",
        "            truncation=True,\n",
        "            max_length=self.max_length,\n",
        "            return_tensors=\"pt\",\n",
        "            return_token_type_ids=False,\n",
        "            add_special_tokens=True\n",
        "        ).input_ids\n",
        "\n",
        "        # END TODO\n",
        "\n",
        "    def __call__(self, batch: List[Dict[str, Union[str, int]]]) -> Dict[str, torch.Tensor]:\n",
        "        \"\"\"\n",
        "        Transforme une batch contenant les colonnes target et concepts en les envoyant au tokenizer\n",
        "        et préparant les jetons aux entrées et sorties de l'encodeur et du décodeur\n",
        "        \"\"\"\n",
        "        # TODO :\n",
        "\n",
        "        # Extraction des colonnes sentence et concepts\n",
        "        sentences = [item[\"sentence\"] for item in batch]\n",
        "        concepts = [item[\"concepts\"] for item in batch]\n",
        "\n",
        "        # Tokenisation des colonnes sentence et concepts\n",
        "        encoder = self.tokenize(sentences)\n",
        "        decoder = self.tokenize(concepts)\n",
        "        # END TODO\n",
        "\n",
        "        \"\"\"\n",
        "        Dans le décodeur, la séquence attendue est décalée vers la droite d'un jeton à l'entrée du décodeur.\n",
        "        Par exemple, si on veut faire de la traduction, nous pourrions avoir la séquence suivante :\n",
        "\n",
        "        La pomme est verte -> The apple is green\n",
        "\n",
        "        Les valeurs du dictionnaire de retour serait donc :\n",
        "\n",
        "        +-------------+--------+--------+--------+--------+--------+--------+\n",
        "        |   Valeur    | Jeton1 | Jeton2 | Jeton3 | Jeton4 | Jeton5 | Jeton6 |\n",
        "        +-------------+--------+--------+--------+--------+--------+--------+\n",
        "        | encoder_in  | [BOS]  | la     | pomme  | est    | verte  | [EOS]  |\n",
        "        | decoder_in  | [BOS]  | The    | apple  | is     | green  | [EOS]  |\n",
        "        | decoder_out | The    | apple  | is     | green  | [EOS]  | [PAD]  |\n",
        "        +-------------+--------+--------+--------+--------+--------+--------+\n",
        "\n",
        "        Par exemple, pour le jeton 3, le transformer essaiera de prédire le jeton \"is\" avec comme information\n",
        "        tous les jetons de l'encodeur et tous les jetons précédents le \"is\" ([BOS] The apple).\n",
        "\n",
        "        C'est d'ailleurs à cause de ce décalage que nous enlevons le premier jetons dans 'decoder_out'. Aussi,\n",
        "        le dernier jetons dans 'decoder_in' est enlevé, car le Transformer ne devrait jamais voir le jeton\n",
        "        de fin de phrase, car cela voudrait dire que la séquence est terminée. Il devrait seulement le prédire.\n",
        "        \"\"\"\n",
        "        return {\n",
        "            'encoder_in': encoder.to(self.device),\n",
        "            'decoder_in': decoder[:, :-1].to(self.device),\n",
        "            'decoder_out': decoder[:, 1:].to(self.device),\n",
        "        }\n"
      ]
    },
    {
      "cell_type": "code",
      "execution_count": 39,
      "metadata": {
        "colab": {
          "base_uri": "https://localhost:8080/"
        },
        "id": "ms_zfOuw9Fxw",
        "outputId": "f535e541-0b65-4f8c-f0a7-3119d23d183a"
      },
      "outputs": [
        {
          "output_type": "stream",
          "name": "stdout",
          "text": [
            "====================================================================================================\n",
            "\n",
            "Encoder in detokenized : \n",
            "\n",
            " [BOS]two elephants standing next to each other in their pen [EOS][PAD][PAD][PAD][PAD]\n",
            "[BOS]A big elephant that is standing there quietly in the pen. [EOS]\n",
            "\n",
            "Decoder in detokenized : \n",
            "\n",
            " [BOS]['elephant'' pen'' stand'] [EOS][PAD][PAD]\n",
            "[BOS]['elephant'' pen'' stand'] [EOS][PAD][PAD]\n",
            "\n",
            "Decoder out detokenized : \n",
            "\n",
            " ['elephant'' pen'' stand'] [EOS][PAD][PAD][PAD]\n",
            "['elephant'' pen'' stand'] [EOS][PAD][PAD][PAD]\n",
            "\n",
            "====================================================================================================\n"
          ]
        }
      ],
      "source": [
        "def test_data_collator():\n",
        "    data_collator = DataCollator(tokenizer=tokenizer, max_length=16)\n",
        "    sample_data = test_dataset[:2]\n",
        "    result = data_collator(CustomDataset(data=sample_data))\n",
        "    print('=' * 100)\n",
        "    print()\n",
        "    print('Encoder in detokenized : \\n\\n', '\\n'.join(tokenizer.batch_decode(result['encoder_in'])))\n",
        "    print()\n",
        "    print('Decoder in detokenized : \\n\\n', '\\n'.join(tokenizer.batch_decode(result['decoder_in'])))\n",
        "    print()\n",
        "    print('Decoder out detokenized : \\n\\n', '\\n'.join(tokenizer.batch_decode(result['decoder_out'])))\n",
        "    print()\n",
        "    print('=' * 100)\n",
        "\n",
        "test_data_collator()"
      ]
    },
    {
      "cell_type": "markdown",
      "metadata": {
        "id": "ft9grnXB9Fxw"
      },
      "source": [
        "Sortie attendue :\n",
        "```\n",
        "====================================================================================================\n",
        "\n",
        "Encoder in detokenized :\n",
        "\n",
        " [BOS]two elephants standing next to each other in their pen [EOS][PAD][PAD][PAD][PAD]\n",
        "[BOS]A big elephant that is standing there quietly in the pen. [EOS]\n",
        "\n",
        "Decoder in detokenized :\n",
        "\n",
        " [BOS]['elephant'' pen'' stand'] [EOS][PAD][PAD]\n",
        "[BOS]['elephant'' pen'' stand'] [EOS][PAD][PAD]\n",
        "\n",
        "Decoder out detokenized :\n",
        "\n",
        " ['elephant'' pen'' stand'] [EOS][PAD][PAD][PAD]\n",
        "['elephant'' pen'' stand'] [EOS][PAD][PAD][PAD]\n",
        "\n",
        "====================================================================================================\n",
        "```"
      ]
    },
    {
      "cell_type": "markdown",
      "metadata": {
        "id": "GrA7t_Xy9Fxw"
      },
      "source": [
        "### 6. Création de lots (Batching)\n",
        "\n",
        "Nous allons utiliser la classe `DataLoader` de PyTorch pour charger les données en \"batchs\". La classe `DataCollator` sera passée en paramètre lors du chargement des données pour automatiquement transformer le texte en jetons."
      ]
    },
    {
      "cell_type": "code",
      "execution_count": 40,
      "metadata": {
        "id": "lptJkGPm9Fxw"
      },
      "outputs": [],
      "source": [
        "BATCH_SIZE = 256\n",
        "TEST_BATCH_SIZE = 128\n",
        "\n",
        "collator = DataCollator(tokenizer=tokenizer, max_length=MAX_LENGTH, device=DEVICE)\n",
        "train_loader = DataLoader(train_dataset, batch_size=BATCH_SIZE, shuffle=True, collate_fn=collator)\n",
        "val_loader = DataLoader(val_dataset, batch_size=BATCH_SIZE, shuffle=False, collate_fn=collator)\n",
        "test_loader = DataLoader(test_dataset, batch_size=TEST_BATCH_SIZE, shuffle=False, collate_fn=collator)"
      ]
    },
    {
      "cell_type": "markdown",
      "metadata": {
        "id": "7R_9-0va9Fxw"
      },
      "source": [
        "### 7. Entraînement (26 points)"
      ]
    },
    {
      "cell_type": "markdown",
      "metadata": {
        "id": "9BCgDQaf9Fxw"
      },
      "source": [
        "#### 7.1 Boucle d'entraînement (20 points)\n",
        "\n",
        "Pour pouvoir générer des prédictions qui ont du sens, il faut entraîner le modèle à effectuer ces prédictions à partir des données d'entraînement. Pour cela, la classe `Trainer` sera utilisée. Elle permettra au modèle, à partir de données d'entraînement, d'apprendre la bonne combinaison de paramètres qui effectue les meilleures prédictions. Nous validerons ensuite les prédictions avec l'ensemble de test. L'ensemble de validation sera utilisé durant l'entraînement pour s'assurer que le modèle apprend bien.\n",
        "\n",
        "Compléter les fonctions `train_epoch` et `validation_epoch` de la classe `Trainer` pour permettre au transformer passé en paramètre du constructeur d'être entraîné avec les données d'entraînement.\n",
        "\n",
        "La fonction `train_epoch` doit :\n",
        "- Parcourir toutes les lots (batchs) d'entraînement et pour chaque lot :\n",
        "  - Entraîner le modèle pour ce lot en évaluant la fonction de perte et mettant à jour les paramètres en fonction des gradients\n",
        "- Calculer la perte d'entraînement moyenne\n",
        "- Mettre la perte d'entraînement dans un objet de la classe `History`\n",
        "\n",
        "La fonction `validation_epoch` doit :\n",
        "- Parcourir tous les lots de validation et pour chaque lot :\n",
        "  - Évaluer le modèle sur ce lot en évaluant la fonction de perte\n",
        "- Calculer la perte de validation moyenne\n",
        "- Mettre la perte de validation dans un objet de la classe `History`"
      ]
    },
    {
      "cell_type": "code",
      "execution_count": 56,
      "metadata": {
        "id": "HhqDUPeB2tRV"
      },
      "outputs": [],
      "source": [
        "from tqdm import tqdm\n",
        "\n",
        "class History:\n",
        "\n",
        "    def __init__(self):\n",
        "        self.t_loss = []\n",
        "        self.v_loss = []\n",
        "        self.time_to_train = -1\n",
        "\n",
        "class Trainer:\n",
        "\n",
        "    def __init__(self,\n",
        "                 transformer: Transformer,\n",
        "                 train_loader: DataLoader,\n",
        "                 val_loader: DataLoader,\n",
        "                 num_epochs: int,\n",
        "                 loss_function = None,\n",
        "                 device='cpu',\n",
        "                 saving_path='model') -> None:\n",
        "        \"\"\"\n",
        "        Args :\n",
        "            transformer: Modèle qui sera entraîné\n",
        "\n",
        "            train_loader: Objet contenant les données d'entraînement en batch\n",
        "\n",
        "            val_loader: Objet contenant les données de validation en batch\n",
        "\n",
        "            num_epochs: Nombre d'étape d'entraînement (une étape équivaut à\n",
        "            parcourir toutes les données une fois)\n",
        "\n",
        "            loss_function: Fonction de perte utilisée lors de l'entraînement. Si\n",
        "            le paramètre est laissé à `None`, la fonction d'entropie croisée sera\n",
        "            utilisée en ignorant les jetons de pad (retrouvés avec la config du modèle)\n",
        "\n",
        "            device: Machine sur laquelle le modèle sera entraîné\n",
        "        \"\"\"\n",
        "\n",
        "        self.model = transformer\n",
        "        self.train_loader = train_loader\n",
        "        self.val_loader = val_loader\n",
        "        self.num_epochs = num_epochs\n",
        "        self.device = device\n",
        "        self.saving_path = saving_path\n",
        "\n",
        "        self.optimizer = O.Adam(self.model.parameters(), lr=0.0001, betas=(0.9, 0.98), eps=1e-9)\n",
        "\n",
        "        if loss_function is None:\n",
        "            self.loss_function = nn.CrossEntropyLoss(ignore_index=transformer.config.pad_token_id).to(self.device)\n",
        "        else:\n",
        "            self.loss_function = loss_function\n",
        "\n",
        "    def compute_loss(self, logits: torch.Tensor, labels: torch.Tensor):\n",
        "        \"\"\"\n",
        "        Trouve la valeur de la fonction de perte (self.loss_function)\n",
        "        étant donné les probabilités (logits) prédits et les vraies\n",
        "        valeurs (labels)\n",
        "\n",
        "        Args :\n",
        "            logits:     Probabilités prédites par le modèle sur le prochain\n",
        "                        jeton pour chacun des jetons de la séquence\n",
        "                        Tenseur de taille : [batch_size, seq_length, vocab_size]\n",
        "\n",
        "            labels:     Jetons qui devraient être prédis comme les prochains\n",
        "                        jetons pour chaque jeton de la séquence\n",
        "                        Tenseur de taille : [batch_size, seq_length]\n",
        "        \"\"\"\n",
        "\n",
        "        _, _, vocab_size = logits.shape\n",
        "        return self.loss_function(logits.contiguous().view(-1, vocab_size), labels.contiguous().view(-1))\n",
        "\n",
        "    def train_epoch(self, history):\n",
        "        \"\"\"\n",
        "        Entraîne le modèle sur tous les lots du `self.train_loader` et calcule\n",
        "        la perte d'entraînement moyen en l'ajoutant à l'objet history passé en\n",
        "        paramètre\n",
        "\n",
        "        Args :\n",
        "            history :   Objet contenant les statistiques d'entraînement d'un modèle\n",
        "        \"\"\"\n",
        "\n",
        "        # TODO\n",
        "\n",
        "        self.model.train() #mise en mode entrainement du modèle\n",
        "        total_loss=0 #initialisaion de la fonction perte\n",
        "\n",
        "        #Itération sur chaque lot dans l'`train_loader`\n",
        "        for batch in tqdm(self.train_loader, desc=\"Training Epoch\"):\n",
        "          #Envoie des entrées et sortie\n",
        "          encoder_input=batch['encoder_in'].to(self.device)\n",
        "          decoder_input=batch[\"decoder_in\"].to(self.device)\n",
        "          decoder_output=batch[\"decoder_out\"].to(self.device)\n",
        "\n",
        "          #Rénitialisation des gradients de l'optimiseur\n",
        "          self.optimizer.zero_grad()\n",
        "\n",
        "          #Obtention des prédiction du modèle\n",
        "          #logits=self.model(encoder_input, decoder_output)\n",
        "          logits= self.model(encoder_input, decoder_input)\n",
        "\n",
        "          # Calcul de la perte entre les prédictions et les cibles\n",
        "          loss = self.compute_loss(logits, decoder_output)\n",
        "\n",
        "          #Propagation arrière pour le calcul des gradients\n",
        "          loss.backward()\n",
        "\n",
        "          # Mise à jour des poids du modèle\n",
        "          self.optimizer.step()\n",
        "\n",
        "          # Ajout de la perte du lot à `total_loss\n",
        "          total_loss += loss.item()\n",
        "\n",
        "        # Calcul de la perte moyenne pour l'époque et l'ajoute à `history.t_loss`\n",
        "        average_loss=total_loss/len(self.train_loader)\n",
        "        history.t_loss.append(average_loss)\n",
        "\n",
        "        # END TODO\n",
        "\n",
        "    def validation_epoch(self, history):\n",
        "        \"\"\"\n",
        "        Évalue le modèle sur tous les lots du `self.val_loader` et calcule\n",
        "        la perte de validation moyen en l'ajoutant à l'objet history passé en\n",
        "        paramètre\n",
        "\n",
        "        Args :\n",
        "            history :   Objet contenant les statistiques d'entraînement d'un modèle\n",
        "        \"\"\"\n",
        "\n",
        "        # TODO\n",
        "\n",
        "        self.model.eval()  #Mise en mode evaluation du modele\n",
        "        total_loss=0 #Initialisation de la perte de validation\n",
        "\n",
        "        with torch.no_grad():  #Désactivation de la rétropopagation pour cette etape\n",
        "\n",
        "          #Itération sur chaque lot dans le val_loader\n",
        "          for batch in tqdm(self.val_loader, desc=\"Validation Epoch\"):\n",
        "            #Envoie des entrées et sorties\n",
        "            encoder_input=batch['encoder_in'].to(self.device)\n",
        "            decoder_input=batch['decoder_in'].to(self.device)\n",
        "            decoder_output=batch['decoder_out'].to(self.device)\n",
        "\n",
        "            #Obtention des prédictions du modèle\n",
        "            logits=self.model(encoder_input, decoder_input)\n",
        "\n",
        "            #Calcul de la perte entre les predictions et les cibles\n",
        "            loss=self.compute_loss(logits, decoder_output)\n",
        "\n",
        "            #Ajout de la perte du lot à total loss\n",
        "            total_loss +=loss.item()\n",
        "\n",
        "          # Calcule la perte moyenne pour l'époque de validation et l'ajoute à `history.v_loss`\n",
        "          average_loss = total_loss / len(self.val_loader)\n",
        "          history.v_loss.append(average_loss)\n",
        "\n",
        "        # END TODO\n",
        "\n",
        "\n",
        "    def train(self) -> History:\n",
        "        \"\"\"\n",
        "        Entraîne `self.model` en utilisant les données de `self.train_loader`\n",
        "\n",
        "        Returns :\n",
        "        Historique contenant les perte d'entraînement et de validation moyennes\n",
        "        pour chaque étape (epoch) d'entraînement\n",
        "        \"\"\"\n",
        "        history = History()\n",
        "        start = time.time()\n",
        "        self.model.to(self.device)\n",
        "\n",
        "\n",
        "        for epoch in range(self.num_epochs):\n",
        "\n",
        "            self.train_epoch(history)\n",
        "            self.validation_epoch(history)\n",
        "\n",
        "            print(f'Epoch {epoch} / {self.num_epochs} : train_loss = {history.t_loss[-1]}, val_loss = {history.v_loss[-1]}')\n",
        "\n",
        "            if epoch > 0 and epoch % 10 == 0:\n",
        "                self.save(f'{self.saving_path}_{epoch}.pt')\n",
        "\n",
        "        end = time.time()\n",
        "        history.time_to_train = end - start\n",
        "        self.save(f'{self.saving_path}_{self.num_epochs}.pt')\n",
        "        return history\n",
        "\n",
        "    def save(self, path: str):\n",
        "        \"\"\"\n",
        "        Saves the model in the specified path\n",
        "        \"\"\"\n",
        "        torch.save(self.model.state_dict(), path)\n",
        "\n",
        "    @staticmethod\n",
        "    def load(config: TransformerConfig, path: str):\n",
        "        \"\"\"\n",
        "        Loads the model from the specified path\n",
        "        \"\"\"\n",
        "        model = Transformer(config)\n",
        "        model.load_state_dict(torch.load(path))\n",
        "        return model"
      ]
    },
    {
      "cell_type": "markdown",
      "metadata": {
        "id": "Rh33P37P9Fxx"
      },
      "source": [
        "#### 7.2 Nombre de paramètres (2 points)\n",
        "Complétez maintenant la fonction `count_parameters` permettant de calculer le nombre de paramètres du modèle"
      ]
    },
    {
      "cell_type": "code",
      "execution_count": 57,
      "metadata": {
        "id": "mUnb2fRp2tRV",
        "colab": {
          "base_uri": "https://localhost:8080/"
        },
        "outputId": "5d9f25ab-9c98-4b0a-dccd-6d350829e3bc"
      },
      "outputs": [
        {
          "output_type": "stream",
          "name": "stdout",
          "text": [
            "Nombre de paramètres :  56434496\n"
          ]
        }
      ],
      "source": [
        "def count_parameters(model):\n",
        "    \"\"\"\n",
        "    Calcule le nombre de paramètres que l'on peut entraîner dans un modèle\n",
        "\n",
        "    Args :\n",
        "        model : Modèle dont on veut savoir le nombre de paramètres\n",
        "\n",
        "    Returns :\n",
        "    Nombre de paramètres\n",
        "    \"\"\"\n",
        "    # TODO\n",
        "\n",
        "    # Comptage des paramètres entraînables\n",
        "    return sum(p.numel() for p in model.parameters() if p.requires_grad)\n",
        "\n",
        "\n",
        "    # END TODO\n",
        "\n",
        "config = TransformerConfig()\n",
        "config.device = DEVICE\n",
        "model = Transformer(config)\n",
        "\n",
        "print('Nombre de paramètres : ', count_parameters(model))"
      ]
    },
    {
      "cell_type": "markdown",
      "metadata": {
        "id": "VyvX8Loe2tRV"
      },
      "source": [
        "#### 7.3 Entraînement (4 points)\n",
        "Entraînez maintenant le modèle pour 30 époques"
      ]
    },
    {
      "cell_type": "code",
      "source": [
        "# Vérifie si un GPU est disponible\n",
        "if torch.cuda.is_available():\n",
        "    print(\"GPU est disponible\")\n",
        "    print(\"Nom du GPU :\", torch.cuda.get_device_name(0))\n",
        "else:\n",
        "    print(\"Aucun GPU détecté, utilisation du CPU\")\n"
      ],
      "metadata": {
        "colab": {
          "base_uri": "https://localhost:8080/"
        },
        "id": "AO3AFRbWDf0u",
        "outputId": "e2748e98-8855-46d1-b5c2-86afaf8221b1"
      },
      "execution_count": 58,
      "outputs": [
        {
          "output_type": "stream",
          "name": "stdout",
          "text": [
            "GPU est disponible\n",
            "Nom du GPU : Tesla T4\n"
          ]
        }
      ]
    },
    {
      "cell_type": "code",
      "execution_count": 59,
      "metadata": {
        "id": "Cf6Q-9v12tRc",
        "colab": {
          "base_uri": "https://localhost:8080/"
        },
        "outputId": "be6e6bdd-db2f-4a37-defd-c064fc87c4e3"
      },
      "outputs": [
        {
          "output_type": "stream",
          "name": "stderr",
          "text": [
            "Training Epoch: 100%|██████████| 18/18 [00:07<00:00,  2.40it/s]\n",
            "Validation Epoch: 100%|██████████| 2/2 [00:00<00:00,  6.16it/s]\n"
          ]
        },
        {
          "output_type": "stream",
          "name": "stdout",
          "text": [
            "Epoch 0 / 30 : train_loss = 3.8476375341415405, val_loss = 2.9494476318359375\n"
          ]
        },
        {
          "output_type": "stream",
          "name": "stderr",
          "text": [
            "Training Epoch: 100%|██████████| 18/18 [00:07<00:00,  2.46it/s]\n",
            "Validation Epoch: 100%|██████████| 2/2 [00:00<00:00,  6.65it/s]\n"
          ]
        },
        {
          "output_type": "stream",
          "name": "stdout",
          "text": [
            "Epoch 1 / 30 : train_loss = 2.3703131543265448, val_loss = 2.5785036087036133\n"
          ]
        },
        {
          "output_type": "stream",
          "name": "stderr",
          "text": [
            "Training Epoch: 100%|██████████| 18/18 [00:07<00:00,  2.39it/s]\n",
            "Validation Epoch: 100%|██████████| 2/2 [00:00<00:00,  6.98it/s]\n"
          ]
        },
        {
          "output_type": "stream",
          "name": "stdout",
          "text": [
            "Epoch 2 / 30 : train_loss = 2.003888964653015, val_loss = 2.4616522789001465\n"
          ]
        },
        {
          "output_type": "stream",
          "name": "stderr",
          "text": [
            "Training Epoch: 100%|██████████| 18/18 [00:07<00:00,  2.39it/s]\n",
            "Validation Epoch: 100%|██████████| 2/2 [00:00<00:00,  6.43it/s]\n"
          ]
        },
        {
          "output_type": "stream",
          "name": "stdout",
          "text": [
            "Epoch 3 / 30 : train_loss = 1.8041102157698736, val_loss = 2.330137848854065\n"
          ]
        },
        {
          "output_type": "stream",
          "name": "stderr",
          "text": [
            "Training Epoch: 100%|██████████| 18/18 [00:07<00:00,  2.47it/s]\n",
            "Validation Epoch: 100%|██████████| 2/2 [00:00<00:00,  6.75it/s]\n"
          ]
        },
        {
          "output_type": "stream",
          "name": "stdout",
          "text": [
            "Epoch 4 / 30 : train_loss = 1.6883538497818842, val_loss = 2.3088982105255127\n"
          ]
        },
        {
          "output_type": "stream",
          "name": "stderr",
          "text": [
            "Training Epoch: 100%|██████████| 18/18 [00:07<00:00,  2.49it/s]\n",
            "Validation Epoch: 100%|██████████| 2/2 [00:00<00:00,  6.13it/s]\n"
          ]
        },
        {
          "output_type": "stream",
          "name": "stdout",
          "text": [
            "Epoch 5 / 30 : train_loss = 1.552892525990804, val_loss = 2.227115511894226\n"
          ]
        },
        {
          "output_type": "stream",
          "name": "stderr",
          "text": [
            "Training Epoch: 100%|██████████| 18/18 [00:07<00:00,  2.43it/s]\n",
            "Validation Epoch: 100%|██████████| 2/2 [00:00<00:00,  6.91it/s]\n"
          ]
        },
        {
          "output_type": "stream",
          "name": "stdout",
          "text": [
            "Epoch 6 / 30 : train_loss = 1.501018265883128, val_loss = 2.2141093015670776\n"
          ]
        },
        {
          "output_type": "stream",
          "name": "stderr",
          "text": [
            "Training Epoch: 100%|██████████| 18/18 [00:07<00:00,  2.49it/s]\n",
            "Validation Epoch: 100%|██████████| 2/2 [00:00<00:00,  7.16it/s]\n"
          ]
        },
        {
          "output_type": "stream",
          "name": "stdout",
          "text": [
            "Epoch 7 / 30 : train_loss = 1.4427061014705234, val_loss = 2.182831048965454\n"
          ]
        },
        {
          "output_type": "stream",
          "name": "stderr",
          "text": [
            "Training Epoch: 100%|██████████| 18/18 [00:07<00:00,  2.55it/s]\n",
            "Validation Epoch: 100%|██████████| 2/2 [00:00<00:00,  7.14it/s]\n"
          ]
        },
        {
          "output_type": "stream",
          "name": "stdout",
          "text": [
            "Epoch 8 / 30 : train_loss = 1.3433127337031894, val_loss = 2.0787997245788574\n"
          ]
        },
        {
          "output_type": "stream",
          "name": "stderr",
          "text": [
            "Training Epoch: 100%|██████████| 18/18 [00:07<00:00,  2.36it/s]\n",
            "Validation Epoch: 100%|██████████| 2/2 [00:00<00:00,  7.08it/s]\n"
          ]
        },
        {
          "output_type": "stream",
          "name": "stdout",
          "text": [
            "Epoch 9 / 30 : train_loss = 1.2107508646117315, val_loss = 1.9593733549118042\n"
          ]
        },
        {
          "output_type": "stream",
          "name": "stderr",
          "text": [
            "Training Epoch: 100%|██████████| 18/18 [00:07<00:00,  2.52it/s]\n",
            "Validation Epoch: 100%|██████████| 2/2 [00:00<00:00,  6.00it/s]\n"
          ]
        },
        {
          "output_type": "stream",
          "name": "stdout",
          "text": [
            "Epoch 10 / 30 : train_loss = 1.0752427975336711, val_loss = 1.893519401550293\n"
          ]
        },
        {
          "output_type": "stream",
          "name": "stderr",
          "text": [
            "Training Epoch: 100%|██████████| 18/18 [00:07<00:00,  2.52it/s]\n",
            "Validation Epoch: 100%|██████████| 2/2 [00:00<00:00,  7.12it/s]\n"
          ]
        },
        {
          "output_type": "stream",
          "name": "stdout",
          "text": [
            "Epoch 11 / 30 : train_loss = 0.9532066848542955, val_loss = 1.8541744947433472\n"
          ]
        },
        {
          "output_type": "stream",
          "name": "stderr",
          "text": [
            "Training Epoch: 100%|██████████| 18/18 [00:07<00:00,  2.41it/s]\n",
            "Validation Epoch: 100%|██████████| 2/2 [00:00<00:00,  7.01it/s]\n"
          ]
        },
        {
          "output_type": "stream",
          "name": "stdout",
          "text": [
            "Epoch 12 / 30 : train_loss = 0.8470902575386895, val_loss = 1.8341073393821716\n"
          ]
        },
        {
          "output_type": "stream",
          "name": "stderr",
          "text": [
            "Training Epoch: 100%|██████████| 18/18 [00:07<00:00,  2.52it/s]\n",
            "Validation Epoch: 100%|██████████| 2/2 [00:00<00:00,  6.99it/s]\n"
          ]
        },
        {
          "output_type": "stream",
          "name": "stdout",
          "text": [
            "Epoch 13 / 30 : train_loss = 0.7543420692284902, val_loss = 1.7774271965026855\n"
          ]
        },
        {
          "output_type": "stream",
          "name": "stderr",
          "text": [
            "Training Epoch: 100%|██████████| 18/18 [00:07<00:00,  2.46it/s]\n",
            "Validation Epoch: 100%|██████████| 2/2 [00:00<00:00,  6.95it/s]\n"
          ]
        },
        {
          "output_type": "stream",
          "name": "stdout",
          "text": [
            "Epoch 14 / 30 : train_loss = 0.6697161595026652, val_loss = 1.7583034038543701\n"
          ]
        },
        {
          "output_type": "stream",
          "name": "stderr",
          "text": [
            "Training Epoch: 100%|██████████| 18/18 [00:07<00:00,  2.40it/s]\n",
            "Validation Epoch: 100%|██████████| 2/2 [00:00<00:00,  6.15it/s]\n"
          ]
        },
        {
          "output_type": "stream",
          "name": "stdout",
          "text": [
            "Epoch 15 / 30 : train_loss = 0.5952825877401564, val_loss = 1.7077641487121582\n"
          ]
        },
        {
          "output_type": "stream",
          "name": "stderr",
          "text": [
            "Training Epoch: 100%|██████████| 18/18 [00:07<00:00,  2.48it/s]\n",
            "Validation Epoch: 100%|██████████| 2/2 [00:00<00:00,  7.04it/s]\n"
          ]
        },
        {
          "output_type": "stream",
          "name": "stdout",
          "text": [
            "Epoch 16 / 30 : train_loss = 0.5261463986502753, val_loss = 1.7060030102729797\n"
          ]
        },
        {
          "output_type": "stream",
          "name": "stderr",
          "text": [
            "Training Epoch: 100%|██████████| 18/18 [00:07<00:00,  2.47it/s]\n",
            "Validation Epoch: 100%|██████████| 2/2 [00:00<00:00,  6.94it/s]\n"
          ]
        },
        {
          "output_type": "stream",
          "name": "stdout",
          "text": [
            "Epoch 17 / 30 : train_loss = 0.4648608449432585, val_loss = 1.6919004321098328\n"
          ]
        },
        {
          "output_type": "stream",
          "name": "stderr",
          "text": [
            "Training Epoch: 100%|██████████| 18/18 [00:07<00:00,  2.43it/s]\n",
            "Validation Epoch: 100%|██████████| 2/2 [00:00<00:00,  6.99it/s]\n"
          ]
        },
        {
          "output_type": "stream",
          "name": "stdout",
          "text": [
            "Epoch 18 / 30 : train_loss = 0.406458576520284, val_loss = 1.6785113215446472\n"
          ]
        },
        {
          "output_type": "stream",
          "name": "stderr",
          "text": [
            "Training Epoch: 100%|██████████| 18/18 [00:07<00:00,  2.48it/s]\n",
            "Validation Epoch: 100%|██████████| 2/2 [00:00<00:00,  7.08it/s]\n"
          ]
        },
        {
          "output_type": "stream",
          "name": "stdout",
          "text": [
            "Epoch 19 / 30 : train_loss = 0.357113574941953, val_loss = 1.6433846950531006\n"
          ]
        },
        {
          "output_type": "stream",
          "name": "stderr",
          "text": [
            "Training Epoch: 100%|██████████| 18/18 [00:07<00:00,  2.52it/s]\n",
            "Validation Epoch: 100%|██████████| 2/2 [00:00<00:00,  6.21it/s]\n"
          ]
        },
        {
          "output_type": "stream",
          "name": "stdout",
          "text": [
            "Epoch 20 / 30 : train_loss = 0.31220510601997375, val_loss = 1.645168960094452\n"
          ]
        },
        {
          "output_type": "stream",
          "name": "stderr",
          "text": [
            "Training Epoch: 100%|██████████| 18/18 [00:07<00:00,  2.40it/s]\n",
            "Validation Epoch: 100%|██████████| 2/2 [00:00<00:00,  6.86it/s]\n"
          ]
        },
        {
          "output_type": "stream",
          "name": "stdout",
          "text": [
            "Epoch 21 / 30 : train_loss = 0.26992255449295044, val_loss = 1.6394358277320862\n"
          ]
        },
        {
          "output_type": "stream",
          "name": "stderr",
          "text": [
            "Training Epoch: 100%|██████████| 18/18 [00:07<00:00,  2.49it/s]\n",
            "Validation Epoch: 100%|██████████| 2/2 [00:00<00:00,  6.90it/s]\n"
          ]
        },
        {
          "output_type": "stream",
          "name": "stdout",
          "text": [
            "Epoch 22 / 30 : train_loss = 0.23594695412450367, val_loss = 1.6440119743347168\n"
          ]
        },
        {
          "output_type": "stream",
          "name": "stderr",
          "text": [
            "Training Epoch: 100%|██████████| 18/18 [00:07<00:00,  2.52it/s]\n",
            "Validation Epoch: 100%|██████████| 2/2 [00:00<00:00,  7.07it/s]\n"
          ]
        },
        {
          "output_type": "stream",
          "name": "stdout",
          "text": [
            "Epoch 23 / 30 : train_loss = 0.20580849962102044, val_loss = 1.6347753405570984\n"
          ]
        },
        {
          "output_type": "stream",
          "name": "stderr",
          "text": [
            "Training Epoch: 100%|██████████| 18/18 [00:07<00:00,  2.39it/s]\n",
            "Validation Epoch: 100%|██████████| 2/2 [00:00<00:00,  7.06it/s]\n"
          ]
        },
        {
          "output_type": "stream",
          "name": "stdout",
          "text": [
            "Epoch 24 / 30 : train_loss = 0.17690470897489124, val_loss = 1.6199394464492798\n"
          ]
        },
        {
          "output_type": "stream",
          "name": "stderr",
          "text": [
            "Training Epoch: 100%|██████████| 18/18 [00:07<00:00,  2.53it/s]\n",
            "Validation Epoch: 100%|██████████| 2/2 [00:00<00:00,  6.21it/s]\n"
          ]
        },
        {
          "output_type": "stream",
          "name": "stdout",
          "text": [
            "Epoch 25 / 30 : train_loss = 0.15062292002969319, val_loss = 1.6479616165161133\n"
          ]
        },
        {
          "output_type": "stream",
          "name": "stderr",
          "text": [
            "Training Epoch: 100%|██████████| 18/18 [00:07<00:00,  2.48it/s]\n",
            "Validation Epoch: 100%|██████████| 2/2 [00:00<00:00,  6.93it/s]\n"
          ]
        },
        {
          "output_type": "stream",
          "name": "stdout",
          "text": [
            "Epoch 26 / 30 : train_loss = 0.1293309773835871, val_loss = 1.6447510123252869\n"
          ]
        },
        {
          "output_type": "stream",
          "name": "stderr",
          "text": [
            "Training Epoch: 100%|██████████| 18/18 [00:07<00:00,  2.50it/s]\n",
            "Validation Epoch: 100%|██████████| 2/2 [00:00<00:00,  6.06it/s]\n"
          ]
        },
        {
          "output_type": "stream",
          "name": "stdout",
          "text": [
            "Epoch 27 / 30 : train_loss = 0.10811042827036646, val_loss = 1.6623504161834717\n"
          ]
        },
        {
          "output_type": "stream",
          "name": "stderr",
          "text": [
            "Training Epoch: 100%|██████████| 18/18 [00:07<00:00,  2.41it/s]\n",
            "Validation Epoch: 100%|██████████| 2/2 [00:00<00:00,  7.07it/s]\n"
          ]
        },
        {
          "output_type": "stream",
          "name": "stdout",
          "text": [
            "Epoch 28 / 30 : train_loss = 0.0932227439350552, val_loss = 1.6568623185157776\n"
          ]
        },
        {
          "output_type": "stream",
          "name": "stderr",
          "text": [
            "Training Epoch: 100%|██████████| 18/18 [00:07<00:00,  2.48it/s]\n",
            "Validation Epoch: 100%|██████████| 2/2 [00:00<00:00,  7.16it/s]\n"
          ]
        },
        {
          "output_type": "stream",
          "name": "stdout",
          "text": [
            "Epoch 29 / 30 : train_loss = 0.20524176748262513, val_loss = 1.6221323609352112\n"
          ]
        }
      ],
      "source": [
        "# TODO\n",
        "\n",
        "def set_seed(seed=42):\n",
        "    random.seed(seed)\n",
        "    np.random.seed(seed)\n",
        "    torch.manual_seed(seed)\n",
        "    if torch.cuda.is_available():\n",
        "        torch.cuda.manual_seed_all(seed)\n",
        "\n",
        "# Fixer la graine au début du script\n",
        "set_seed(42)\n",
        "\n",
        "trainer = Trainer(model, train_loader, val_loader, 30, None, 'cuda')\n",
        "history = History() # Mettez le résultat de l'entraînement dans cette variable\n",
        "history = trainer.train()\n",
        "\n",
        "# END TODO"
      ]
    },
    {
      "cell_type": "markdown",
      "metadata": {
        "id": "_G64kklgztJX"
      },
      "source": [
        "### 8. Historique d'entraînement (5 points)"
      ]
    },
    {
      "cell_type": "markdown",
      "metadata": {
        "id": "paXl6ZeL9Fxx"
      },
      "source": [
        "#### 8.1 Graphique (2 points)\n",
        "Complétez la fonction `show_history` qui affiche l'historique d'entraînement (perte d'entraînement et perte de validation par époque, utilisez des pas de 5 époques) du modèle dans un graphe."
      ]
    },
    {
      "cell_type": "code",
      "execution_count": 60,
      "metadata": {
        "id": "w9oPTKOB9Fxx",
        "colab": {
          "base_uri": "https://localhost:8080/",
          "height": 567
        },
        "outputId": "67283c3b-868c-4fc5-a096-011d6d3a3878"
      },
      "outputs": [
        {
          "output_type": "display_data",
          "data": {
            "text/plain": [
              "<Figure size 1000x600 with 1 Axes>"
            ],
            "image/png": "[encoded data removed]"
          },
          "metadata": {}
        }
      ],
      "source": [
        "def show_history(history: History):\n",
        "    \"\"\"\n",
        "    Affiche l'historique d'entraînement du modèle dans un graphique\n",
        "\n",
        "    Args :\n",
        "        history : Objet contenant les pertes d'entraînement et de\n",
        "        validation de chaque étape d'entraînement\n",
        "    \"\"\"\n",
        "    # TODO\n",
        "\n",
        "    # Création de la figure\n",
        "    plt.figure(figsize=(10, 6))\n",
        "\n",
        "    # Tracé de la perte d'entraînement et de validation\n",
        "    plt.plot(history.t_loss, label='Training Loss',marker='*')\n",
        "    plt.plot(history.v_loss, label='Validation Loss',marker='*')\n",
        "\n",
        "    # Ajout des titres et labels\n",
        "    plt.title(\"Historique de l'entraînement\")\n",
        "    plt.xlabel(\"Époque\")\n",
        "    plt.ylabel(\"Perte\")\n",
        "    plt.grid(True)\n",
        "    plt.legend()\n",
        "\n",
        "    # Affichage du graphique\n",
        "    plt.show()\n",
        "\n",
        "    # END TODO\n",
        "\n",
        "show_history(history)"
      ]
    },
    {
      "cell_type": "markdown",
      "metadata": {
        "id": "9LwB7-VX9Fxx"
      },
      "source": [
        "#### 8.2 Est-ce que le modèle semble être en sur-apprentissage ? Pourquoi ? Que feriez-vous pour résoudre ce problème ? (2 points)"
      ]
    },
    {
      "cell_type": "markdown",
      "source": [
        "### 8.2 Est-ce que le modèle semble être en sur-apprentissage ?\n",
        "\n",
        "Oui, le modèle montre des signes de sur-apprentissage : la perte d'entraînement diminue tandis que la perte de validation stagne, indiquant une spécialisation excessive sur les données d'entraînement.\n",
        "\n",
        "### Que feriez-vous pour résoudre ce problème ?\n",
        "\n",
        "1. **Augmenter le Dropout** : Augmenter le taux de dropout pour réduire la spécialisation du modèle.\n",
        "2. **Early Stopping** : Arrêter l'entraînement lorsque la perte de validation cesse d’améliorer.\n",
        "3. **Régularisation L2** : Ajouter une régularisation pour éviter que les poids deviennent trop grands.\n",
        "4. **Réduction de la Complexité** : Simplifier l'architecture du modèle si elle est trop complexe.\n",
        "\n",
        "Ces solutions aideraient à améliorer la généralisation du modèle.\n"
      ],
      "metadata": {
        "id": "zV2TazUknkKE"
      }
    },
    {
      "cell_type": "markdown",
      "metadata": {
        "id": "IndyxKRWBFiQ"
      },
      "source": [
        "#### 8.3 Lors de l'entraînement, un modèle a été sauvegardé à chaque 10 époques. En vous basant sur le graphique de la fonction de perte durant l'entraînement, choisissez la sauvegarde du modèle qui n'est pas en sur-apprentissage et chargez le pour l'évaluation à l'aide de la fonction `load` de la classe `Trainer`. Chargez également le dernier modèle sauvegardé pour comparer les résultats. (1 point)\n",
        "\n",
        "Nous dénoterons le modèle arrêté avant le sur-apprentissage comme étant : `stopped_model`\n",
        "\n",
        "Nous dénoterons le dernier modèle sauvegardé comme étant : `last_model`"
      ]
    },
    {
      "cell_type": "code",
      "execution_count": 61,
      "metadata": {
        "id": "O96q-EK2BZr9",
        "colab": {
          "base_uri": "https://localhost:8080/"
        },
        "outputId": "be095873-c84f-4f97-8aba-97f02f8f599c"
      },
      "outputs": [
        {
          "output_type": "stream",
          "name": "stderr",
          "text": [
            "<ipython-input-56-9cf23f255033>:198: FutureWarning: You are using `torch.load` with `weights_only=False` (the current default value), which uses the default pickle module implicitly. It is possible to construct malicious pickle data which will execute arbitrary code during unpickling (See https://github.com/pytorch/pytorch/blob/main/SECURITY.md#untrusted-models for more details). In a future release, the default value for `weights_only` will be flipped to `True`. This limits the functions that could be executed during unpickling. Arbitrary objects will no longer be allowed to be loaded via this mode unless they are explicitly allowlisted by the user via `torch.serialization.add_safe_globals`. We recommend you start setting `weights_only=True` for any use case where you don't have full control of the loaded file. Please open an issue on GitHub for any issues related to this experimental feature.\n",
            "  model.load_state_dict(torch.load(path))\n"
          ]
        }
      ],
      "source": [
        "# TODO\n",
        "\n",
        "stopped_model = Trainer.load(config=config, path='model_10.pt').to(DEVICE) # Chargement du modèle arrêté avant le sur-apprentissage (vers l'époque 10)\n",
        "last_model = Trainer.load(config=config, path='model_30.pt').to(DEVICE)# Chargement du dernier modèle sauvegardé (fin de l'entraînement)\n",
        "\n",
        "# END TODO"
      ]
    },
    {
      "cell_type": "markdown",
      "metadata": {
        "id": "W95hjKY19Fxx"
      },
      "source": [
        "### 9. Évaluation (20 points)"
      ]
    },
    {
      "cell_type": "markdown",
      "metadata": {
        "id": "oM_j2M0A9Fxx",
        "tags": []
      },
      "source": [
        "#### 9.1 Génération (10 points)\n",
        "Maintenant que le modèle est entraîné, nous pouvons tester ses générations. Complétez la fonction `generate` qui génère, pour un lot de données, les prédictions d'un modèle sur les concepts clés de la phrase donnée en paramètre."
      ]
    },
    {
      "cell_type": "code",
      "execution_count": 62,
      "metadata": {
        "id": "UmoO5WYT9Fxx"
      },
      "outputs": [],
      "source": [
        "def generate(model: Transformer, encoder_in: torch.tensor, bos_token_id: int, eos_token_id: int, max_length=MAX_LENGTH):\n",
        "    \"\"\"\n",
        "    Génère les prédictions d'un modèle pour des phrases données en paramètre. Pour cela, vous devez\n",
        "    initialiser un tenseur X contenant les jetons de début de phrase (bos_token_id). Ensuite, ce\n",
        "    tenseur sera passé comme entrée au décodeur avec `encoder_in` comme entrée à l'encodeur. Le modèle\n",
        "    génèrera un jeton en sortie qui sera le jeton le plus probable étant donné le jeton de début de\n",
        "    phrase et la séquence passée dans l'encodeur. Ce jeton devra être concaténé au tenseur initial X\n",
        "    pour former une séquence de deux jetons. Cette nouvelle séquence est ensuite réenvoyée au décodeur.\n",
        "    Un jeton en sortie sera généré correspondant au jeton le plus probable étant donné la séquence de\n",
        "    deux jetons et l'entrée de l'encodeur. Le nouveau jeton est concaténé au tenseur X et l'opération\n",
        "    est répétée jusqu'à ce que le décodeur génère le jeton de fin de phrase.\n",
        "\n",
        "    Args :\n",
        "        model : Modèle effectuant les prédictions\n",
        "\n",
        "        inputs : Tenseur contenant les phrases d'entrées sous forme d'indices de jetons\n",
        "\n",
        "        bos_token_id : Jeton d'entrée du tokenizer utilisé pour initialiser le tenseur de génération\n",
        "\n",
        "        eos_token_id : Jeton de fin du tokenizer utilisé pour détecter la fin d'une séquence\n",
        "\n",
        "        max_length : Nombre maximal de jetons qui doivent être générés par le modèle\n",
        "\n",
        "    Returns :\n",
        "    Génération du modèle de chacune des phrases en entrée\n",
        "    \"\"\"\n",
        "    # TODO\n",
        "    model.eval()\n",
        "\n",
        "    current_batch_size = encoder_in.size(0)\n",
        "\n",
        "    # Initialisation de la séquence générée avec le jeton de début\n",
        "    generated_sequence = torch.full((current_batch_size, 1), bos_token_id, dtype=torch.long, device=DEVICE)\n",
        "\n",
        "    # Indicateur de séquences terminées\n",
        "    finished_sequences = torch.zeros(current_batch_size, dtype=torch.bool, device=DEVICE)\n",
        "\n",
        "    for _ in range(max_length):\n",
        "        # Appel du modèle pour générer la sortie\n",
        "        output = model(encoder_in, generated_sequence)\n",
        "\n",
        "        # Extraction des jetons prévus (dernier jeton de generated_sequence)\n",
        "        next_token = output[:, -1, :].argmax(dim=-1, keepdim=True)\n",
        "\n",
        "        # Mise à jour des séquences terminées\n",
        "        finished_sequences |= (next_token.squeeze(1) == eos_token_id)\n",
        "\n",
        "        # Assignation du jeton de fin de phrase aux séquences terminées\n",
        "        next_token[finished_sequences] = eos_token_id\n",
        "\n",
        "        # Concaténation des nouveaux jetons générés\n",
        "        generated_sequence = torch.cat([generated_sequence, next_token], dim=1)\n",
        "\n",
        "        # Arrêt si toutes les séquences sont terminées\n",
        "        if finished_sequences.all():\n",
        "            break\n",
        "\n",
        "    return generated_sequence\n",
        "\n",
        "    # END TODO"
      ]
    },
    {
      "cell_type": "code",
      "execution_count": 63,
      "metadata": {
        "id": "5t_4T4Eg9Fxx"
      },
      "outputs": [],
      "source": [
        "def get_predictions(model, tokenizer):\n",
        "\n",
        "    bos_token_id = tokenizer(\"\")['input_ids'][0]\n",
        "    eos_token_id = tokenizer(\"\")['input_ids'][1]\n",
        "\n",
        "    sentences = []\n",
        "    predictions = []\n",
        "    ground_truth = []\n",
        "    for test_data in test_loader:\n",
        "\n",
        "        inputs = test_data['encoder_in']\n",
        "        result = generate(model, inputs, bos_token_id, eos_token_id)\n",
        "\n",
        "        sentences.extend(tokenizer.batch_decode(test_data['encoder_in'], skip_special_tokens=True))\n",
        "        ground_truth.extend(tokenizer.batch_decode(test_data['decoder_out'], skip_special_tokens=True))\n",
        "        predictions.extend(tokenizer.batch_decode(result, skip_special_tokens=True))\n",
        "\n",
        "    return sentences, ground_truth, predictions\n",
        "\n",
        "sentences_stopped, ground_truth_stopped, predictions_stopped = get_predictions(stopped_model, tokenizer)\n",
        "sentences_last, ground_truth_last, predictions_last = get_predictions(last_model, tokenizer)"
      ]
    },
    {
      "cell_type": "code",
      "execution_count": 64,
      "metadata": {
        "id": "2e8pOemw9Fxx"
      },
      "outputs": [],
      "source": [
        "predictions_stopped = pd.DataFrame({'sentences': sentences_stopped, 'ground_truth': ground_truth_stopped, 'predictions': predictions_stopped})\n",
        "predictions_last = pd.DataFrame({'sentences': sentences_last, 'ground_truth': ground_truth_last, 'predictions': predictions_last})"
      ]
    },
    {
      "cell_type": "code",
      "source": [
        "predictions_stopped.to_csv('predictions_stopped.csv', index=False)\n",
        "predictions_last.to_csv('predictions_last.csv', index=False)"
      ],
      "metadata": {
        "id": "RjLLiBV7pyWU"
      },
      "execution_count": 65,
      "outputs": []
    },
    {
      "cell_type": "code",
      "source": [
        "predictions_stopped.head(20)"
      ],
      "metadata": {
        "colab": {
          "base_uri": "https://localhost:8080/",
          "height": 677
        },
        "id": "Al00UhFPxuMZ",
        "outputId": "e9727cfb-1f3a-4b4b-fe5b-786f53e88ba5"
      },
      "execution_count": 66,
      "outputs": [
        {
          "output_type": "execute_result",
          "data": {
            "text/plain": [
              "                                            sentences  \\\n",
              "0   two elephants standing next to each other in t...   \n",
              "1   A big elephant that is standing there quietly ...   \n",
              "2                        love the color of this dress   \n",
              "3                 i just love the colors in her dress   \n",
              "4            love the colors and print on this dress.   \n",
              "5                      harvesting wheat in the fields   \n",
              "6                   wheat ready to harvest in a field   \n",
              "7               a farmer harvests wheat at the fields   \n",
              "8                     a bee pollinating a pink flower   \n",
              "9                 bee pollinate the flowers in yellow   \n",
              "10             this honey bee is pollinating flowers.   \n",
              "11           a group of students celebrate graduation   \n",
              "12    students celebrate on the lawn after graduation   \n",
              "13  happy female students celebrating their gradua...   \n",
              "14           a bathroom with a brown wall and counter   \n",
              "15  A well lit bathroom with white walls and beige...   \n",
              "16              A giraffe is standing inside of a pen   \n",
              "17         these are three giraffes standing in a pen   \n",
              "18  Four giraffe standing next to each other in a ...   \n",
              "19            A dog that is laying down under a desk.   \n",
              "\n",
              "                            ground_truth                     predictions  \n",
              "0             ['elephant'' pen'' stand']    ['elephant'' stand'' stand']  \n",
              "1             ['elephant'' pen'' stand']    ['elephant'' stand'' stand']  \n",
              "2               ['color'' dress'' love']      ['airport'' plate'' take']  \n",
              "3               ['color'' dress'' love']       ['airport'' land'' take']  \n",
              "4               ['color'' dress'' love']     ['airport'' plate'' table']  \n",
              "5            ['field'' harvest'' wheat']        ['eat'' student'' work']  \n",
              "6            ['field'' harvest'' wheat']       ['field'' field'' field']  \n",
              "7            ['field'' harvest'' wheat']       ['elephant'' eat'' work']  \n",
              "8           ['bee'' flower'' pollinate']    ['flower'' flower'' flower']  \n",
              "9           ['bee'' flower'' pollinate']    ['flower'' flower'' flower']  \n",
              "10          ['bee'' flower'' pollinate']    ['flower'' flower'' flower']  \n",
              "11  ['celebrate'' graduation'' student']    ['student'' student'' work']  \n",
              "12  ['celebrate'' graduation'' student']    ['student'' student'' work']  \n",
              "13  ['celebrate'' graduation'' student']    ['student'' student'' work']  \n",
              "14         ['bathroom'' counter'' wall']      ['bathroom'' wall'' wall']  \n",
              "15         ['bathroom'' counter'' wall']  ['bathroom'' bathroom'' wall']  \n",
              "16             ['giraffe'' pen'' stand']         ['eat'' stand'' stand']  \n",
              "17             ['giraffe'' pen'' stand']      ['airplane'' fly'' stand']  \n",
              "18             ['giraffe'' pen'' stand']    ['elephant'' stand'' stand']  \n",
              "19                  ['desk'' dog'' lay']             ['dog'' dog'' dog']  "
            ],
            "text/html": [
              "\n",
              "  <div id=\"df-0036a51c-33f6-4841-bc6d-7752cc3d3be1\" class=\"colab-df-container\">\n",
              "    <div>\n",
              "<style scoped>\n",
              "    .dataframe tbody tr th:only-of-type {\n",
              "        vertical-align: middle;\n",
              "    }\n",
              "\n",
              "    .dataframe tbody tr th {\n",
              "        vertical-align: top;\n",
              "    }\n",
              "\n",
              "    .dataframe thead th {\n",
              "        text-align: right;\n",
              "    }\n",
              "</style>\n",
              "<table border=\"1\" class=\"dataframe\">\n",
              "  <thead>\n",
              "    <tr style=\"text-align: right;\">\n",
              "      <th></th>\n",
              "      <th>sentences</th>\n",
              "      <th>ground_truth</th>\n",
              "      <th>predictions</th>\n",
              "    </tr>\n",
              "  </thead>\n",
              "  <tbody>\n",
              "    <tr>\n",
              "      <th>0</th>\n",
              "      <td>two elephants standing next to each other in t...</td>\n",
              "      <td>['elephant'' pen'' stand']</td>\n",
              "      <td>['elephant'' stand'' stand']</td>\n",
              "    </tr>\n",
              "    <tr>\n",
              "      <th>1</th>\n",
              "      <td>A big elephant that is standing there quietly ...</td>\n",
              "      <td>['elephant'' pen'' stand']</td>\n",
              "      <td>['elephant'' stand'' stand']</td>\n",
              "    </tr>\n",
              "    <tr>\n",
              "      <th>2</th>\n",
              "      <td>love the color of this dress</td>\n",
              "      <td>['color'' dress'' love']</td>\n",
              "      <td>['airport'' plate'' take']</td>\n",
              "    </tr>\n",
              "    <tr>\n",
              "      <th>3</th>\n",
              "      <td>i just love the colors in her dress</td>\n",
              "      <td>['color'' dress'' love']</td>\n",
              "      <td>['airport'' land'' take']</td>\n",
              "    </tr>\n",
              "    <tr>\n",
              "      <th>4</th>\n",
              "      <td>love the colors and print on this dress.</td>\n",
              "      <td>['color'' dress'' love']</td>\n",
              "      <td>['airport'' plate'' table']</td>\n",
              "    </tr>\n",
              "    <tr>\n",
              "      <th>5</th>\n",
              "      <td>harvesting wheat in the fields</td>\n",
              "      <td>['field'' harvest'' wheat']</td>\n",
              "      <td>['eat'' student'' work']</td>\n",
              "    </tr>\n",
              "    <tr>\n",
              "      <th>6</th>\n",
              "      <td>wheat ready to harvest in a field</td>\n",
              "      <td>['field'' harvest'' wheat']</td>\n",
              "      <td>['field'' field'' field']</td>\n",
              "    </tr>\n",
              "    <tr>\n",
              "      <th>7</th>\n",
              "      <td>a farmer harvests wheat at the fields</td>\n",
              "      <td>['field'' harvest'' wheat']</td>\n",
              "      <td>['elephant'' eat'' work']</td>\n",
              "    </tr>\n",
              "    <tr>\n",
              "      <th>8</th>\n",
              "      <td>a bee pollinating a pink flower</td>\n",
              "      <td>['bee'' flower'' pollinate']</td>\n",
              "      <td>['flower'' flower'' flower']</td>\n",
              "    </tr>\n",
              "    <tr>\n",
              "      <th>9</th>\n",
              "      <td>bee pollinate the flowers in yellow</td>\n",
              "      <td>['bee'' flower'' pollinate']</td>\n",
              "      <td>['flower'' flower'' flower']</td>\n",
              "    </tr>\n",
              "    <tr>\n",
              "      <th>10</th>\n",
              "      <td>this honey bee is pollinating flowers.</td>\n",
              "      <td>['bee'' flower'' pollinate']</td>\n",
              "      <td>['flower'' flower'' flower']</td>\n",
              "    </tr>\n",
              "    <tr>\n",
              "      <th>11</th>\n",
              "      <td>a group of students celebrate graduation</td>\n",
              "      <td>['celebrate'' graduation'' student']</td>\n",
              "      <td>['student'' student'' work']</td>\n",
              "    </tr>\n",
              "    <tr>\n",
              "      <th>12</th>\n",
              "      <td>students celebrate on the lawn after graduation</td>\n",
              "      <td>['celebrate'' graduation'' student']</td>\n",
              "      <td>['student'' student'' work']</td>\n",
              "    </tr>\n",
              "    <tr>\n",
              "      <th>13</th>\n",
              "      <td>happy female students celebrating their gradua...</td>\n",
              "      <td>['celebrate'' graduation'' student']</td>\n",
              "      <td>['student'' student'' work']</td>\n",
              "    </tr>\n",
              "    <tr>\n",
              "      <th>14</th>\n",
              "      <td>a bathroom with a brown wall and counter</td>\n",
              "      <td>['bathroom'' counter'' wall']</td>\n",
              "      <td>['bathroom'' wall'' wall']</td>\n",
              "    </tr>\n",
              "    <tr>\n",
              "      <th>15</th>\n",
              "      <td>A well lit bathroom with white walls and beige...</td>\n",
              "      <td>['bathroom'' counter'' wall']</td>\n",
              "      <td>['bathroom'' bathroom'' wall']</td>\n",
              "    </tr>\n",
              "    <tr>\n",
              "      <th>16</th>\n",
              "      <td>A giraffe is standing inside of a pen</td>\n",
              "      <td>['giraffe'' pen'' stand']</td>\n",
              "      <td>['eat'' stand'' stand']</td>\n",
              "    </tr>\n",
              "    <tr>\n",
              "      <th>17</th>\n",
              "      <td>these are three giraffes standing in a pen</td>\n",
              "      <td>['giraffe'' pen'' stand']</td>\n",
              "      <td>['airplane'' fly'' stand']</td>\n",
              "    </tr>\n",
              "    <tr>\n",
              "      <th>18</th>\n",
              "      <td>Four giraffe standing next to each other in a ...</td>\n",
              "      <td>['giraffe'' pen'' stand']</td>\n",
              "      <td>['elephant'' stand'' stand']</td>\n",
              "    </tr>\n",
              "    <tr>\n",
              "      <th>19</th>\n",
              "      <td>A dog that is laying down under a desk.</td>\n",
              "      <td>['desk'' dog'' lay']</td>\n",
              "      <td>['dog'' dog'' dog']</td>\n",
              "    </tr>\n",
              "  </tbody>\n",
              "</table>\n",
              "</div>\n",
              "    <div class=\"colab-df-buttons\">\n",
              "\n",
              "  <div class=\"colab-df-container\">\n",
              "    <button class=\"colab-df-convert\" onclick=\"convertToInteractive('df-0036a51c-33f6-4841-bc6d-7752cc3d3be1')\"\n",
              "            title=\"Convert this dataframe to an interactive table.\"\n",
              "            style=\"display:none;\">\n",
              "\n",
              "  <svg xmlns=\"http://www.w3.org/2000/svg\" height=\"24px\" viewBox=\"0 -960 960 960\">\n",
              "    <path d=\"M120-120v-720h720v720H120Zm60-500h600v-160H180v160Zm220 220h160v-160H400v160Zm0 220h160v-160H400v160ZM180-400h160v-160H180v160Zm440 0h160v-160H620v160ZM180-180h160v-160H180v160Zm440 0h160v-160H620v160Z\"/>\n",
              "  </svg>\n",
              "    </button>\n",
              "\n",
              "  <style>\n",
              "    .colab-df-container {\n",
              "      display:flex;\n",
              "      gap: 12px;\n",
              "    }\n",
              "\n",
              "    .colab-df-convert {\n",
              "      background-color: #E8F0FE;\n",
              "      border: none;\n",
              "      border-radius: 50%;\n",
              "      cursor: pointer;\n",
              "      display: none;\n",
              "      fill: #1967D2;\n",
              "      height: 32px;\n",
              "      padding: 0 0 0 0;\n",
              "      width: 32px;\n",
              "    }\n",
              "\n",
              "    .colab-df-convert:hover {\n",
              "      background-color: #E2EBFA;\n",
              "      box-shadow: 0px 1px 2px rgba(60, 64, 67, 0.3), 0px 1px 3px 1px rgba(60, 64, 67, 0.15);\n",
              "      fill: #174EA6;\n",
              "    }\n",
              "\n",
              "    .colab-df-buttons div {\n",
              "      margin-bottom: 4px;\n",
              "    }\n",
              "\n",
              "    [theme=dark] .colab-df-convert {\n",
              "      background-color: #3B4455;\n",
              "      fill: #D2E3FC;\n",
              "    }\n",
              "\n",
              "    [theme=dark] .colab-df-convert:hover {\n",
              "      background-color: #434B5C;\n",
              "      box-shadow: 0px 1px 3px 1px rgba(0, 0, 0, 0.15);\n",
              "      filter: drop-shadow(0px 1px 2px rgba(0, 0, 0, 0.3));\n",
              "      fill: #FFFFFF;\n",
              "    }\n",
              "  </style>\n",
              "\n",
              "    <script>\n",
              "      const buttonEl =\n",
              "        document.querySelector('#df-0036a51c-33f6-4841-bc6d-7752cc3d3be1 button.colab-df-convert');\n",
              "      buttonEl.style.display =\n",
              "        google.colab.kernel.accessAllowed ? 'block' : 'none';\n",
              "\n",
              "      async function convertToInteractive(key) {\n",
              "        const element = document.querySelector('#df-0036a51c-33f6-4841-bc6d-7752cc3d3be1');\n",
              "        const dataTable =\n",
              "          await google.colab.kernel.invokeFunction('convertToInteractive',\n",
              "                                                    [key], {});\n",
              "        if (!dataTable) return;\n",
              "\n",
              "        const docLinkHtml = 'Like what you see? Visit the ' +\n",
              "          '<a target=\"_blank\" href=https://colab.research.google.com/notebooks/data_table.ipynb>data table notebook</a>'\n",
              "          + ' to learn more about interactive tables.';\n",
              "        element.innerHTML = '';\n",
              "        dataTable['output_type'] = 'display_data';\n",
              "        await google.colab.output.renderOutput(dataTable, element);\n",
              "        const docLink = document.createElement('div');\n",
              "        docLink.innerHTML = docLinkHtml;\n",
              "        element.appendChild(docLink);\n",
              "      }\n",
              "    </script>\n",
              "  </div>\n",
              "\n",
              "\n",
              "<div id=\"df-fc370303-f037-4082-a30e-5dc388d1b77c\">\n",
              "  <button class=\"colab-df-quickchart\" onclick=\"quickchart('df-fc370303-f037-4082-a30e-5dc388d1b77c')\"\n",
              "            title=\"Suggest charts\"\n",
              "            style=\"display:none;\">\n",
              "\n",
              "<svg xmlns=\"http://www.w3.org/2000/svg\" height=\"24px\"viewBox=\"0 0 24 24\"\n",
              "     width=\"24px\">\n",
              "    <g>\n",
              "        <path d=\"M19 3H5c-1.1 0-2 .9-2 2v14c0 1.1.9 2 2 2h14c1.1 0 2-.9 2-2V5c0-1.1-.9-2-2-2zM9 17H7v-7h2v7zm4 0h-2V7h2v10zm4 0h-2v-4h2v4z\"/>\n",
              "    </g>\n",
              "</svg>\n",
              "  </button>\n",
              "\n",
              "<style>\n",
              "  .colab-df-quickchart {\n",
              "      --bg-color: #E8F0FE;\n",
              "      --fill-color: #1967D2;\n",
              "      --hover-bg-color: #E2EBFA;\n",
              "      --hover-fill-color: #174EA6;\n",
              "      --disabled-fill-color: #AAA;\n",
              "      --disabled-bg-color: #DDD;\n",
              "  }\n",
              "\n",
              "  [theme=dark] .colab-df-quickchart {\n",
              "      --bg-color: #3B4455;\n",
              "      --fill-color: #D2E3FC;\n",
              "      --hover-bg-color: #434B5C;\n",
              "      --hover-fill-color: #FFFFFF;\n",
              "      --disabled-bg-color: #3B4455;\n",
              "      --disabled-fill-color: #666;\n",
              "  }\n",
              "\n",
              "  .colab-df-quickchart {\n",
              "    background-color: var(--bg-color);\n",
              "    border: none;\n",
              "    border-radius: 50%;\n",
              "    cursor: pointer;\n",
              "    display: none;\n",
              "    fill: var(--fill-color);\n",
              "    height: 32px;\n",
              "    padding: 0;\n",
              "    width: 32px;\n",
              "  }\n",
              "\n",
              "  .colab-df-quickchart:hover {\n",
              "    background-color: var(--hover-bg-color);\n",
              "    box-shadow: 0 1px 2px rgba(60, 64, 67, 0.3), 0 1px 3px 1px rgba(60, 64, 67, 0.15);\n",
              "    fill: var(--button-hover-fill-color);\n",
              "  }\n",
              "\n",
              "  .colab-df-quickchart-complete:disabled,\n",
              "  .colab-df-quickchart-complete:disabled:hover {\n",
              "    background-color: var(--disabled-bg-color);\n",
              "    fill: var(--disabled-fill-color);\n",
              "    box-shadow: none;\n",
              "  }\n",
              "\n",
              "  .colab-df-spinner {\n",
              "    border: 2px solid var(--fill-color);\n",
              "    border-color: transparent;\n",
              "    border-bottom-color: var(--fill-color);\n",
              "    animation:\n",
              "      spin 1s steps(1) infinite;\n",
              "  }\n",
              "\n",
              "  @keyframes spin {\n",
              "    0% {\n",
              "      border-color: transparent;\n",
              "      border-bottom-color: var(--fill-color);\n",
              "      border-left-color: var(--fill-color);\n",
              "    }\n",
              "    20% {\n",
              "      border-color: transparent;\n",
              "      border-left-color: var(--fill-color);\n",
              "      border-top-color: var(--fill-color);\n",
              "    }\n",
              "    30% {\n",
              "      border-color: transparent;\n",
              "      border-left-color: var(--fill-color);\n",
              "      border-top-color: var(--fill-color);\n",
              "      border-right-color: var(--fill-color);\n",
              "    }\n",
              "    40% {\n",
              "      border-color: transparent;\n",
              "      border-right-color: var(--fill-color);\n",
              "      border-top-color: var(--fill-color);\n",
              "    }\n",
              "    60% {\n",
              "      border-color: transparent;\n",
              "      border-right-color: var(--fill-color);\n",
              "    }\n",
              "    80% {\n",
              "      border-color: transparent;\n",
              "      border-right-color: var(--fill-color);\n",
              "      border-bottom-color: var(--fill-color);\n",
              "    }\n",
              "    90% {\n",
              "      border-color: transparent;\n",
              "      border-bottom-color: var(--fill-color);\n",
              "    }\n",
              "  }\n",
              "</style>\n",
              "\n",
              "  <script>\n",
              "    async function quickchart(key) {\n",
              "      const quickchartButtonEl =\n",
              "        document.querySelector('#' + key + ' button');\n",
              "      quickchartButtonEl.disabled = true;  // To prevent multiple clicks.\n",
              "      quickchartButtonEl.classList.add('colab-df-spinner');\n",
              "      try {\n",
              "        const charts = await google.colab.kernel.invokeFunction(\n",
              "            'suggestCharts', [key], {});\n",
              "      } catch (error) {\n",
              "        console.error('Error during call to suggestCharts:', error);\n",
              "      }\n",
              "      quickchartButtonEl.classList.remove('colab-df-spinner');\n",
              "      quickchartButtonEl.classList.add('colab-df-quickchart-complete');\n",
              "    }\n",
              "    (() => {\n",
              "      let quickchartButtonEl =\n",
              "        document.querySelector('#df-fc370303-f037-4082-a30e-5dc388d1b77c button');\n",
              "      quickchartButtonEl.style.display =\n",
              "        google.colab.kernel.accessAllowed ? 'block' : 'none';\n",
              "    })();\n",
              "  </script>\n",
              "</div>\n",
              "\n",
              "    </div>\n",
              "  </div>\n"
            ],
            "application/vnd.google.colaboratory.intrinsic+json": {
              "type": "dataframe",
              "variable_name": "predictions_stopped",
              "summary": "{\n  \"name\": \"predictions_stopped\",\n  \"rows\": 500,\n  \"fields\": [\n    {\n      \"column\": \"sentences\",\n      \"properties\": {\n        \"dtype\": \"string\",\n        \"num_unique_values\": 499,\n        \"samples\": [\n          \"football player arrives on the green carpet for awards\",\n          \"coffee in a heart shaped cup\",\n          \"A Air France jet taxing on tarmac at airport.\"\n        ],\n        \"semantic_type\": \"\",\n        \"description\": \"\"\n      }\n    },\n    {\n      \"column\": \"ground_truth\",\n      \"properties\": {\n        \"dtype\": \"category\",\n        \"num_unique_values\": 175,\n        \"samples\": [\n          \"['deity'' statue'' temple']\",\n          \"['field'' sunrise'' tree']\",\n          \"['attraction'' bridge'' cross']\"\n        ],\n        \"semantic_type\": \"\",\n        \"description\": \"\"\n      }\n    },\n    {\n      \"column\": \"predictions\",\n      \"properties\": {\n        \"dtype\": \"category\",\n        \"num_unique_values\": 220,\n        \"samples\": [\n          \"['elephant'' elephant'' take']\",\n          \"['elephant'' lie'' walk']\",\n          \"['cat'' look'' look']\"\n        ],\n        \"semantic_type\": \"\",\n        \"description\": \"\"\n      }\n    }\n  ]\n}"
            }
          },
          "metadata": {},
          "execution_count": 66
        }
      ]
    },
    {
      "cell_type": "markdown",
      "metadata": {
        "id": "vGOifYaW9Fxx"
      },
      "source": [
        "#### 9.2 Évaluation naive de la génération (1 point)\n",
        "Nous allons d'abord mesurer l'efficacité de notre modèle pour extraire les concepts à l'aide d'une métrique de correspondance exacte (exact match). Pour cela, nous allons mesurer le nombre de générations (`predictions`) qui sont identiques à celles qui sont attendues dans l'ensemble de référence (`ground truth`) et diviser le tout par le nombre totaux d'éléments dans l'ensemble de référence. Ainsi, la métrique EM (exact match) équivaut à :\n",
        "\n",
        "$$\\text{EM} = \\frac{\\text{Nombre d'éléments identiques entre l'ensemble généré et l'ensemble de référence}}{\\text{Nombre d'éléments dans l'ensemble de référence}}$$"
      ]
    },
    {
      "cell_type": "code",
      "execution_count": 67,
      "metadata": {
        "id": "3owRHw1D9Fxx",
        "colab": {
          "base_uri": "https://localhost:8080/"
        },
        "outputId": "18c94d07-6a8f-4385-cefc-cc3d0641b62e"
      },
      "outputs": [
        {
          "output_type": "stream",
          "name": "stdout",
          "text": [
            "La métrique EM du modèle arrêté selon la fonction de perte est 0.40 %\n",
            "La métrique EM du dernier modèle est 9.60 %\n"
          ]
        }
      ],
      "source": [
        "def compute_em_score(data):\n",
        "    \"\"\"\n",
        "    Évalue la métrique EM du modèle en utilisant la métrique BLEU\n",
        "    Args :\n",
        "        - data : DataFrame contenant les colonnes predictions et ground_truth\n",
        "\n",
        "    Returns :\n",
        "    La métrique EM du modèle en pourcentage\n",
        "    \"\"\"\n",
        "    # TODO\n",
        "    # Comptage du nombre de correspondances exactes entre les prédictions et le ground truth\n",
        "    exact_matches = (data['predictions'] == data['ground_truth']).sum()\n",
        "\n",
        "    # Calcul de la métrique EM en divisant le nombre de correspondances exactes par le nombre total d'éléments\n",
        "    em_score = (exact_matches / len(data)) * 100\n",
        "\n",
        "    return em_score\n",
        "    # END TODO\n",
        "\n",
        "print(f\"La métrique EM du modèle arrêté selon la fonction de perte est {compute_em_score(predictions_stopped):.2f} %\")\n",
        "print(f\"La métrique EM du dernier modèle est {compute_em_score(predictions_last):.2f} %\")"
      ]
    },
    {
      "cell_type": "markdown",
      "metadata": {
        "id": "8TlJ99y99Fxy"
      },
      "source": [
        "#### 9.3 Quels problèmes voyez-vous avec cette manière de calculer la performance du modèle ? (1 point)"
      ]
    },
    {
      "cell_type": "markdown",
      "source": [
        "### Limites de la méthode EM pour évaluer la performance du modèle\n",
        "\n",
        "La méthode EM (Exact Match) présente des limites significatives pour évaluer la performance du modèle :\n",
        "\n",
        "- **Rigidité de la correspondance exacte** : La méthode est trop stricte, car elle considère toute variation entre la prédiction et la référence comme une erreur complète, même si les réponses sont conceptuellement correctes.\n",
        "- **Absence de flexibilité pour les synonymes** : EM ne tient pas compte des synonymes ou des reformulations acceptables, ce qui peut entraîner une sous-évaluation de la performance lorsque les réponses sont correctes mais exprimées différemment.\n",
        "- **Métriques alternatives** : Des métriques comme BLEU ou ROUGE seraient mieux adaptées. Elles permettent des variations dans la formulation tout en mesurant la similarité de contenu, offrant ainsi une évaluation plus nuancée et réaliste de la qualité des prédictions du modèle.\n"
      ],
      "metadata": {
        "id": "af_O6YRLqiOp"
      }
    },
    {
      "cell_type": "markdown",
      "metadata": {
        "id": "v5TGstQP9Fxy"
      },
      "source": [
        "#### 9.4 Métrique BLEU (4 points)\n",
        "Pour pallier à ce problème, la métrique BLEU sera utilisée puisqu'elle est basée sur le nombre de n-gramme qui sont présents dans les prédictions et les séquences voulues. La formule est donnée ci-dessous :\n",
        "$$BLEU = BP * exp \\Big( \\sum_{n=1}^{N} w_n \\log p_n \\Big)$$\n",
        "\n",
        "Considérant que $r$ est la phrase de référence (voulue) et $c$ la phrase générée (candidate), $p_n$ est la précision modifiée pour le n-gramme (correspondant au ratio de la fréquence maximum du n-gramme dans la phrase de référence par la fréquence du n-gramme):\n",
        "$$p_n = \\frac{\\sum_{\\text{n-gramme} \\in c} \\min\\Big( \\max_{r} \\text{Count$_r$(n-gramme)}, \\text{Count$_c$(n-gramme)} \\Big)}{\\sum_{\\text{n-gramme} \\in c} \\text{Count$_c$(n-gramme)}}$$\n",
        "\n",
        "Notez que le $\\max_{r}$ est présent ici car BLEU accepte plusieurs phrases de référence pour une même phrase générée. Cependant, dans notre cas, il y a seulement une seule phrase de référence.\n",
        "\n",
        "Posons ensuite $|r|$ comme le nombre de mots dans la phrase cible et $|c|$ comme le nombre de mots dans la phrase prédite. Si $c>r$, alors BP vaut 1. Sinon $$BP = exp(1 - \\frac{|r|}{|c|})$$\n",
        "\n",
        "Les valeurs des poids $w_n$ est ce qui donne les différentes variations de la métrique BLEU. Dans notre cas, la métrique BLEU-1 sera utilisée. La valeur maximale du score BLEU est 1 et la valeur minimale est 0.\n",
        "\n",
        "Vous pouvez utiliser la fonction `sentence_bleu` de `nltk` pour calculer votre score BLEU. N'oubliez pas d'enlever les apostrophes et les crochets des générations avant votre calcul."
      ]
    },
    {
      "cell_type": "code",
      "execution_count": 68,
      "metadata": {
        "id": "dChq1yTK9Fxy",
        "colab": {
          "base_uri": "https://localhost:8080/"
        },
        "outputId": "687814db-ed7a-4fb7-a513-178801643537"
      },
      "outputs": [
        {
          "output_type": "stream",
          "name": "stdout",
          "text": [
            "Le score BLEU du modèle arrêté selon la fonction de perte est 0.30\n",
            "Le score BLEU du dernier modèle est 0.58.\n"
          ]
        }
      ],
      "source": [
        "from nltk.translate.bleu_score import sentence_bleu, SmoothingFunction\n",
        "\n",
        "def compute_bleu(predictions):\n",
        "    \"\"\"\n",
        "    Évalue la précision du modèle en utilisant la métrique BLEU\n",
        "    Args :\n",
        "        - data : DataFrame contenant les colonnes predictions et ground_truth\n",
        "\n",
        "    Returns :\n",
        "        La moyenne du score BLEU\n",
        "    \"\"\"\n",
        "    weights = (1, 0, 0, 0) # Use Bleu-1\n",
        "    # TODO\n",
        "    bleu_scores = []\n",
        "    smoothing_fn = SmoothingFunction().method1  # Fonction de lissage\n",
        "\n",
        "    for _, row in predictions.iterrows():\n",
        "        # Nettoyage les prédictions et les références en retirant les crochets et les apostrophes\n",
        "        prediction = re.sub(r\"[\\[\\]']\", \"\", row[\"predictions\"]).split()\n",
        "        reference = [re.sub(r\"[\\[\\]']\", \"\", row[\"ground_truth\"]).split()]\n",
        "\n",
        "        # Calcul du score BLEU pour la phrase actuelle avec la fonction de lissage\n",
        "        bleu_score = sentence_bleu(reference, prediction, weights=weights, smoothing_function=smoothing_fn)\n",
        "        bleu_scores.append(bleu_score)\n",
        "\n",
        "    # Retourne la moyenne des scores BLEU\n",
        "    return sum(bleu_scores) / len(bleu_scores)\n",
        "\n",
        "\n",
        "    # END TODO\n",
        "\n",
        "print(f\"Le score BLEU du modèle arrêté selon la fonction de perte est {compute_bleu(predictions_stopped):.2f}\")\n",
        "print(f\"Le score BLEU du dernier modèle est {compute_bleu(predictions_last):.2f}.\")"
      ]
    },
    {
      "cell_type": "markdown",
      "metadata": {
        "id": "rZ2DjH3ZeRVO"
      },
      "source": [
        "#### 9.5 Quel est l'avantage d'utiliser la métrique BLEU par rapport à la métrique EM basée sur la comparaison de chaîne de caractères ? (2 points)"
      ]
    },
    {
      "cell_type": "markdown",
      "source": [
        "L’avantage d’utiliser la métrique BLEU par rapport à la métrique EM est qu’elle permet de capturer les correspondances partielles (n-grammes) entre la prédiction et la référence, ce qui la rend plus flexible et tolérante aux petites variations. Contrairement à la métrique EM, qui exige une correspondance exacte, la BLEU peut évaluer la similarité même si la prédiction n’est pas identique mot pour mot à la référence, ce qui est particulièrement utile pour les tâches de génération de texte.\n"
      ],
      "metadata": {
        "id": "ydNNk06FtVuC"
      }
    },
    {
      "cell_type": "markdown",
      "metadata": {
        "id": "f06F1OICfO7_"
      },
      "source": [
        "#### 9.6 Que remarquez-vous par rapport aux performances du modèle arrêté avant le sur-apprentissage selon la fonction de perte versus celles du dernier modèle ? Quelles sont les raisons qui peuvent expliquer cela ? (2 points)"
      ]
    },
    {
      "cell_type": "markdown",
      "source": [
        "Le dernier modèle montre un score BLEU supérieur à celui du modèle arrêté avant le sur-apprentissage, indiquant de meilleures performances de génération. Cela peut s'expliquer par le fait que le dernier modèle a eu plus d'époques pour apprendre les relations complexes dans les données d'entraînement, ce qui améliore la précision des prédictions. Cependant, ce modèle risque également de mémoriser davantage les données d'entraînement, ce qui pourrait réduire sa capacité de généralisation sur de nouvelles données. Le modèle arrêté avant le sur-apprentissage pourrait, quant à lui, être moins performant sur les données d'entraînement mais mieux généraliser sur des exemples non vus.\n"
      ],
      "metadata": {
        "id": "qYk2sgFotf7I"
      }
    },
    {
      "cell_type": "markdown",
      "metadata": {
        "id": "C2cXyEuA9Fxy"
      },
      "source": [
        "### 10. Exploration (4 points)"
      ]
    },
    {
      "cell_type": "markdown",
      "metadata": {
        "id": "U99e4YjL9Fxy"
      },
      "source": [
        "#### 10.1 Explorez les générations actuelles de votre modèle et ressortez 2 problèmes que le modèle a lors de la génération qui font diminuer son score BLEU. (2 points)"
      ]
    },
    {
      "cell_type": "markdown",
      "source": [
        "1. **Répétitions de mots ou de phrases** : Le modèle a tendance à répéter certains mots ou séquences de mots lors de la génération. Ces répétitions, qui ne sont généralement pas présentes dans les séquences de référence, entraînent une baisse du score BLEU car elles réduisent la précision n-grammes.\n",
        "\n",
        "2. **Mauvais choix de mots-clés ou manque de précision contextuelle** : Le modèle utilise parfois des termes synonymes ou contextuellement similaires mais qui ne correspondent pas exactement aux mots de la référence. Ces différences subtiles dans le vocabulaire et le contexte diminuent la correspondance exacte avec la phrase cible, affectant ainsi le score BLEU.\n"
      ],
      "metadata": {
        "id": "o9wQQHJ6tvBm"
      }
    },
    {
      "cell_type": "markdown",
      "metadata": {
        "id": "JfdKeifU9Fxy"
      },
      "source": [
        "#### 10.2 Amélioration des métriques (2 points)\n",
        "L'exemple ci-dessous montre 2 générations de 2 modèles pour la phrase \"A dog is eating a flower\". Bien que la génération du modèle 2 soit beaucoup plus proche sémantiquement de la référence que celle du modèle 1, la métrique BLEU retourne 0.0 dans les deux cas. En effet, puisque la métrique ne compare que les n-grammes, la prédiction du modèle 2 est quand même de 0, car aucun des mots dans la prédiction ne sont présents dans les concepts voulus."
      ]
    },
    {
      "cell_type": "code",
      "execution_count": 69,
      "metadata": {
        "id": "Gd8Y64Pv9Fxy",
        "colab": {
          "base_uri": "https://localhost:8080/"
        },
        "outputId": "630c9694-1a15-4196-9633-67afc367162d"
      },
      "outputs": [
        {
          "output_type": "stream",
          "name": "stdout",
          "text": [
            "Concepts voulus ['dog' 'eat' 'flower']\n",
            "Prédiction du modèle 1 : ['car' 'hit' 'person']\n",
            "BLEU : 0.00\n",
            "Prédiction du modèle 2 : ['animal' 'eating' 'plant']\n",
            "BLEU : 0.00\n"
          ]
        }
      ],
      "source": [
        "ground_truth = \"['dog' 'eat' 'flower']\"\n",
        "\n",
        "prediction_1 = \"['car' 'hit' 'person']\"\n",
        "preds = pd.DataFrame({'predictions': [prediction_1], 'ground_truth': [ground_truth]})\n",
        "\n",
        "print(f\"Concepts voulus {ground_truth}\")\n",
        "print(f\"Prédiction du modèle 1 : {prediction_1}\")\n",
        "print(f\"BLEU : {compute_bleu(preds):.2f}\")\n",
        "\n",
        "prediction_2 = \"['animal' 'eating' 'plant']\"\n",
        "preds = pd.DataFrame({'predictions': [prediction_2], 'ground_truth': [ground_truth]})\n",
        "\n",
        "print(f\"Prédiction du modèle 2 : {prediction_2}\")\n",
        "print(f\"BLEU : {compute_bleu(preds):.2f}\")"
      ]
    },
    {
      "cell_type": "markdown",
      "metadata": {
        "id": "OLVBUJ2e9Fxy"
      },
      "source": [
        "Proposez (sans l'implémenter) une meilleure métrique pour évaluer les modèles face à cette tâche d'extraction qui donnerait un score plus élevé à la prédiction du modèle 2."
      ]
    },
    {
      "cell_type": "markdown",
      "source": [
        "Cet exemple illustre une limitation importante de la métrique BLEU pour évaluer les concepts générés par le modèle, en particulier pour les tâches où des termes synonymes ou proches sémantiquement de ceux attendus peuvent être corrects. Dans le cas de la génération, bien que \"animal\", \"eating\", et \"plant\" soient sémantiquement plus proches de \"dog\", \"eat\", et \"flower\" que les mots de la première prédiction, la métrique BLEU reste à 0.0 car elle ne détecte aucune correspondance exacte de n-grammes entre la prédiction et la référence.\n",
        "\n",
        "**Amélioration possible :**\n",
        "Pour mieux refléter la similarité sémantique, il serait avantageux d’utiliser une métrique qui tient compte des similarités de sens, comme les embeddings de mots pour calculer des distances cosinus entre les mots, ou des métriques comme le score ROUGE ou METEOR, qui sont moins strictes que la métrique BLEU en termes de correspondances exactes des n-grammes. Cela permettrait de mieux évaluer les généralisations du modèle même si elles ne sont pas exactement identiques aux concepts attendus.\n"
      ],
      "metadata": {
        "id": "2FjGmxCmuRnU"
      }
    },
    {
      "cell_type": "markdown",
      "metadata": {
        "id": "p6J0Td4JztJe"
      },
      "source": [
        "## Livrables\n",
        "Vous devez remettre votre notebook sur Moodle et Gradescope en ipynb et pdf. Pour Gradescope vous devez associer les numéros de questions avec vos réponses dans le pdf grâce à l'outil que fournit Gradescope.\n",
        "\n",
        "\n",
        "## Évaluation\n",
        "Votre TP sera évalué selon les critères suivants :\n",
        "1. Exécution correcte du code et obtention des sorties attendues\n",
        "2. Réponses correctes aux questions d'analyse\n",
        "3. Qualité du code (noms significatifs, structure, performance, gestion d’exception, etc.)\n",
        "4. Commentaires clairs et informatifs"
      ]
    },
    {
      "cell_type": "code",
      "source": [],
      "metadata": {
        "id": "k-SirZCRpmSA"
      },
      "execution_count": 69,
      "outputs": []
    }
  ],
  "metadata": {
    "accelerator": "GPU",
    "colab": {
      "gpuType": "T4",
      "provenance": []
    },
    "kernelspec": {
      "display_name": "Python 3",
      "name": "python3"
    },
    "language_info": {
      "codemirror_mode": {
        "name": "ipython",
        "version": 3
      },
      "file_extension": ".py",
      "mimetype": "text/x-python",
      "name": "python",
      "nbconvert_exporter": "python",
      "pygments_lexer": "ipython3",
      "version": "3.11.9"
    }
  },
  "nbformat": 4,
  "nbformat_minor": 0
}